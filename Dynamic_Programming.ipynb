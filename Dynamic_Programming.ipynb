{
  "nbformat": 4,
  "nbformat_minor": 0,
  "metadata": {
    "colab": {
      "name": "Dynamic Programming.ipynb",
      "provenance": [],
      "authorship_tag": "ABX9TyMmWITFrnz2Fpqiwc2Ny0ZG",
      "include_colab_link": true
    },
    "kernelspec": {
      "name": "python3",
      "display_name": "Python 3"
    }
  },
  "cells": [
    {
      "cell_type": "markdown",
      "metadata": {
        "id": "view-in-github",
        "colab_type": "text"
      },
      "source": [
        "<a href=\"https://colab.research.google.com/github/EngHyu/til_algorithm/blob/master/Dynamic_Programming.ipynb\" target=\"_parent\"><img src=\"https://colab.research.google.com/assets/colab-badge.svg\" alt=\"Open In Colab\"/></a>"
      ]
    },
    {
      "cell_type": "markdown",
      "metadata": {
        "id": "rxkZnseK5KoJ",
        "colab_type": "text"
      },
      "source": [
        "# 백준 1932번: 정수 삼각형\n",
        "https://www.acmicpc.net/problem/1932\n",
        "\n",
        "시간 제한 | 메모리 제한 | 제출 | 정답 | 맞은 사람 | 정답 비율\n",
        "---|---|---|---|---|---\n",
        "2 초 | 128 MB | 34786 | 20338 | 15072 | 58.708%\n",
        "\n",
        "# 문제\n",
        "```\n",
        "        7\n",
        "      3   8\n",
        "    8   1   0\n",
        "  2   7   4   4\n",
        "4   5   2   6   5\n",
        "```\n",
        "\n",
        "위 그림은 크기가 5인 정수 삼각형의 한 모습이다.\n",
        "\n",
        "맨 위층 7부터 시작해서 아래에 있는 수 중 하나를 선택하여 아래층으로 내려올 때, 이제까지 선택된 수의 합이 최대가 되는 경로를 구하는 프로그램을 작성하라. 아래층에 있는 수는 현재 층에서 선택된 수의 대각선 왼쪽 또는 대각선 오른쪽에 있는 것 중에서만 선택할 수 있다.\n",
        "\n",
        "삼각형의 크기는 1 이상 500 이하이다. 삼각형을 이루고 있는 각 수는 모두 정수이며, 범위는 0 이상 9999 이하이다.\n",
        "\n",
        "# 입력\n",
        "첫째 줄에 삼각형의 크기 n(1 ≤ n ≤ 500)이 주어지고, 둘째 줄부터 n+1번째 줄까지 정수 삼각형이 주어진다.\n",
        "\n",
        "# 출력\n",
        "첫째 줄에 합이 최대가 되는 경로에 있는 수의 합을 출력한다.\n",
        "\n",
        "# 예제 입력 1\n",
        "```\n",
        "5\n",
        "7\n",
        "3 8\n",
        "8 1 0\n",
        "2 7 4 4\n",
        "4 5 2 6 5\n",
        "```\n",
        "\n",
        "# 예제 출력 1\n",
        "```\n",
        "30\n",
        "```\n",
        "\n",
        "# 출처\n",
        "[Olympiad](https://www.acmicpc.net/category/2) > [International Olympiad in Informatics](https://www.acmicpc.net/category/99) > [IOI 1994](https://www.acmicpc.net/category/detail/541) 1번"
      ]
    },
    {
      "cell_type": "markdown",
      "metadata": {
        "id": "3MV0lB-w6mEP",
        "colab_type": "text"
      },
      "source": [
        "# DP = 점화식\n",
        "DP는 큰 문제를 작은 문제로 나누어 푸는 문제입니다. `Divide and Conquer`와는 달리 작은 문제의 답이 변경되지 않고, 반복됩니다. 즉, DP 문제를 일반화 하는 점화식을 찾으면 어렵지 않게 해결할 수 있습니다.\n",
        "\n",
        "# 정수 삼각형의 점화식\n",
        "정수 삼각형의 한 가운데를 기준으로 생각해보면, 마지막 줄 2에 도달하기 위한 경로는 두 가지입니다. 7에서부터 오는 경로와 4에서부터 오는 경로. 문제 정의에 따라, 둘 중 더 큰 쪽을 택해야 합니다. 이를 일반화 한 점화식은 다음과 같습니다.\n",
        "\n",
        ">$n_{i,j} = n_{i-1,j-1} + n_{i-1,j}$\n",
        "\n",
        "주의해야 할 점은, 이러한 점화식에는 예외가 존재할 수 있다는 것입니다. 위 문제에서 각 줄의 가장 왼쪽, 가장 오른쪽에 도달하는 경로는 한 가지 밖에 없으며, 점화식을 그대로 적용할 수 없습니다. 이 경우를 예외 처리한 코드는 아래와 같습니다."
      ]
    },
    {
      "cell_type": "code",
      "metadata": {
        "id": "VAxhheLz4_y9",
        "colab_type": "code",
        "colab": {}
      },
      "source": [
        "n = int(input()); tri = []\n",
        "for _ in range(n):\n",
        "    tri.append([int(x) for x in input().split(\" \")])\n",
        "    \n",
        "for i in range(1, n):\n",
        "    for j in range(i+1):\n",
        "        if j == i:\n",
        "            tri[i][j] += tri[i-1][j-1]\n",
        "        elif j == 0:\n",
        "            tri[i][j] += tri[i-1][j]\n",
        "        else:\n",
        "            tri[i][j] += max(tri[i-1][j-1], tri[i-1][j])\n",
        "        \n",
        "print(max(tri[-1]))"
      ],
      "execution_count": null,
      "outputs": []
    },
    {
      "cell_type": "markdown",
      "metadata": {
        "id": "4DpQcFHEe8mJ",
        "colab_type": "text"
      },
      "source": [
        "# 백준 9095번: 1, 2, 3 더하기\n",
        "\n",
        "https://www.acmicpc.net/problem/9095\n",
        "\n",
        "시간 제한 | 메모리 제한 | 제출 | 정답 | 맞은 사람 | 정답 비율\n",
        "---|---|---|---|---|---\n",
        "1 초 | 128 MB | 47199 | 30042 | 19984 | 61.799%\n",
        "\n",
        "# 문제\n",
        "정수 4를 1, 2, 3의 합으로 나타내는 방법은 총 7가지가 있다. 합을 나타낼 때는 수를 1개 이상 사용해야 한다.\n",
        "\n",
        "```\n",
        "1+1+1+1\n",
        "1+1+2\n",
        "1+2+1\n",
        "2+1+1\n",
        "2+2\n",
        "1+3\n",
        "3+1\n",
        "```\n",
        "\n",
        "정수 n이 주어졌을 때, n을 1, 2, 3의 합으로 나타내는 방법의 수를 구하는 프로그램을 작성하시오.\n",
        "\n",
        "# 입력\n",
        "첫째 줄에 테스트 케이스의 개수 T가 주어진다. 각 테스트 케이스는 한 줄로 이루어져 있고, 정수 n이 주어진다. n은 양수이며 11보다 작다.\n",
        "\n",
        "# 출력\n",
        "각 테스트 케이스마다, n을 1, 2, 3의 합으로 나타내는 방법의 수를 출력한다.\n",
        "\n",
        "# 예제 입력 1\n",
        "```\n",
        "3\n",
        "4\n",
        "7\n",
        "10\n",
        "```\n",
        "\n",
        "# 예제 출력 1\n",
        "```\n",
        "7\n",
        "44\n",
        "274\n",
        "```\n",
        "\n",
        "# 출처\n",
        "[ICPC](https://www.acmicpc.net/category/1) > [Regionals](https://www.acmicpc.net/category/7) > [Asia Pacific](https://www.acmicpc.net/category/42) > [Korea](https://www.acmicpc.net/category/211) > [Asia Regional - Taejon 2001](https://www.acmicpc.net/category/detail/884) PC번\n",
        "\n",
        "문제를 번역한 사람: baekjoon\n",
        "\n",
        "문제의 오타를 찾은 사람: standardraccoon wjrqur1200"
      ]
    },
    {
      "cell_type": "markdown",
      "metadata": {
        "id": "AFumYPUvi4Ov",
        "colab_type": "text"
      },
      "source": [
        "정수 n이 주어졌을 때 이를 1, 2, 3을 이용하여 표현하는 방법의 수를 f(n)으로 설정하겠습니다. n은 (n-1) + 1, (n-2) + 2, (n-3) + 3 세 가지 방법으로 만들 수 있으니, 다음과 같은 점화식이 만들어집니다.\n",
        "\n",
        ">$f(n) = f(n-1) + f(n-2) + f(n-3)$\n",
        "\n",
        "물론 여기에도 n > 4라는 제약 조건이 붙습니다. 보다 효율적으로 계산하기 위해 순차적으로 모두 구해놓은 뒤, input으로 들어온 값만 출력하도록 설정했습니다."
      ]
    },
    {
      "cell_type": "code",
      "metadata": {
        "id": "28_E6el9gyhn",
        "colab_type": "code",
        "colab": {
          "base_uri": "https://localhost:8080/",
          "height": 136
        },
        "outputId": "d92cb26d-6d5f-482a-978e-3596eeb55761"
      },
      "source": [
        "n = int(input())\n",
        "query = [int(input()) for _ in range(n)]\n",
        "query_max = max(query) + 1\n",
        "\n",
        "methods = [1] * query_max\n",
        "methods[1] = 1\n",
        "methods[2] = 2\n",
        "methods[3] = 4\n",
        "\n",
        "for i in range(3, query_max):\n",
        "  methods[i] = methods[i-1] + methods[i-2] + methods[i-3]\n",
        "\n",
        "for q in query:\n",
        "  print(methods[q])"
      ],
      "execution_count": 5,
      "outputs": [
        {
          "output_type": "stream",
          "text": [
            "3\n",
            "4\n",
            "7\n",
            "10\n",
            "7\n",
            "44\n",
            "274\n"
          ],
          "name": "stdout"
        }
      ]
    },
    {
      "cell_type": "markdown",
      "metadata": {
        "id": "0AWBOMpLkeXn",
        "colab_type": "text"
      },
      "source": [
        "# 백준 1003번: 피보나치 함수\n",
        "시간 제한 | 메모리 제한 | 제출 | 정답 | 맞은 사람 | 정답 비율\n",
        "---|---|---|---|---|---\n",
        "0.25 초 (추가 시간 없음) | 128 MB | 94004 | 23111 | 18237 | 29.676%\n",
        "\n",
        "# 문제\n",
        "다음 소스는 N번째 피보나치 수를 구하는 C++ 함수이다.\n",
        "\n",
        "```c++\n",
        "int fibonacci(int n) {\n",
        "    if (n == 0) {\n",
        "        printf(\"0\");\n",
        "        return 0;\n",
        "    } else if (n == 1) {\n",
        "        printf(\"1\");\n",
        "        return 1;\n",
        "    } else {\n",
        "        return fibonacci(n‐1) + fibonacci(n‐2);\n",
        "    }\n",
        "}\n",
        "```\n",
        "\n",
        "`fibonacci(3)`을 호출하면 다음과 같은 일이 일어난다.\n",
        "\n",
        "`fibonacci(3)`은 `fibonacci(2)`와 `fibonacci(1)` (첫 번째 호출)을 호출한다.\n",
        "`fibonacci(2)`는 `fibonacci(1)` (두 번째 호출)과 `fibonacci(0)`을 호출한다.\n",
        "두 번째 호출한 `fibonacci(1)`은 1을 출력하고 1을 리턴한다.\n",
        "`fibonacci(0)`은 0을 출력하고, 0을 리턴한다.\n",
        "`fibonacci(2)`는 `fibonacci(1)`과 `fibonacci(0)`의 결과를 얻고, 1을 리턴한다.\n",
        "첫 번째 호출한 `fibonacci(1)`은 1을 출력하고, 1을 리턴한다.\n",
        "`fibonacci(3)`은 `fibonacci(2)`와 `fibonacci(1)`의 결과를 얻고, 2를 리턴한다.\n",
        "1은 2번 출력되고, 0은 1번 출력된다. N이 주어졌을 때, `fibonacci(N)`을 호출했을 때, 0과 1이 각각 몇 번 출력되는지 구하는 프로그램을 작성하시오.\n",
        "\n",
        "# 입력\n",
        "첫째 줄에 테스트 케이스의 개수 T가 주어진다.\n",
        "\n",
        "각 테스트 케이스는 한 줄로 이루어져 있고, N이 주어진다. N은 40보다 작거나 같은 자연수 또는 0이다.\n",
        "\n",
        "# 출력\n",
        "각 테스트 케이스마다 0이 출력되는 횟수와 1이 출력되는 횟수를 공백으로 구분해서 출력한다.\n",
        "\n",
        "# 예제 입력 1\n",
        "```\n",
        "3\n",
        "0\n",
        "1\n",
        "3\n",
        "```\n",
        "\n",
        "# 예제 출력 1\n",
        "```\n",
        "1 0\n",
        "0 1\n",
        "1 2\n",
        "```\n",
        "\n",
        "# 출처\n",
        "문제를 번역한 사람: baekjoon\n",
        "\n",
        "어색한 표현을 찾은 사람: cyj101366\n",
        "\n",
        "데이터를 추가한 사람: doju wonrok97"
      ]
    },
    {
      "cell_type": "markdown",
      "metadata": {
        "id": "8SESZA0dlXgv",
        "colab_type": "text"
      },
      "source": [
        "# 풀이\n",
        "피보나치 함수 `fibonacci(n)`을 호출했을 때 0이 출력되는 횟수를 f0(n), 1이 출력되는 횟수를 f1(n)이라 설정합니다. 이때 다음과 같은 공식이 성립합니다.\n",
        "\n",
        ">$f0(n) = f0(n-1) + f0(n-2)$\n",
        ">$f1(n) = f1(n-1) + f1(n-2)$\n",
        ">$단, f0(0) = 1, f0(1) = 0, f1(0) = 0, f1(1) = 1$\n",
        "\n",
        "입력 값 중 가장 큰 값을 n으로 설정하여 $f0(n), f1(n)$을 구하면 모든 케이스에 대한 값을 구할 수 있습니다."
      ]
    },
    {
      "cell_type": "code",
      "metadata": {
        "id": "ZUq88zI_h80H",
        "colab_type": "code",
        "colab": {
          "base_uri": "https://localhost:8080/",
          "height": 136
        },
        "outputId": "af92468b-1d0f-4329-edf3-3c18d3166a9a"
      },
      "source": [
        "n = int(input())\n",
        "query = [int(input()) for _ in range(n)]\n",
        "query_max = max(query) + 1\n",
        "\n",
        "methods = [[0, 0] for _ in range(query_max)]\n",
        "methods[0] = [1, 0]\n",
        "methods[1] = [0, 1]\n",
        "\n",
        "for i in range(2, query_max):\n",
        "  methods[i][0] = methods[i-1][0] + methods[i-2][0]\n",
        "  methods[i][1] = methods[i-1][1] + methods[i-2][1]\n",
        "\n",
        "for q in query:\n",
        "  print(methods[q][0], methods[q][1])"
      ],
      "execution_count": 9,
      "outputs": [
        {
          "output_type": "stream",
          "text": [
            "3\n",
            "20\n",
            "15\n",
            "18\n",
            "4181 6765\n",
            "377 610\n",
            "1597 2584\n"
          ],
          "name": "stdout"
        }
      ]
    },
    {
      "cell_type": "code",
      "metadata": {
        "id": "7kkB3dIEm26F",
        "colab_type": "code",
        "colab": {}
      },
      "source": [
        ""
      ],
      "execution_count": null,
      "outputs": []
    }
  ]
}