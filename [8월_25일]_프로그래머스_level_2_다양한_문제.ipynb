{
  "nbformat": 4,
  "nbformat_minor": 0,
  "metadata": {
    "colab": {
      "name": "[8월 25일] 다양한 문제_김동호.ipynb",
      "provenance": [],
      "authorship_tag": "ABX9TyMFtWb3LaJ1Ri3fDkR5XpHI",
      "include_colab_link": true
    },
    "kernelspec": {
      "name": "python3",
      "display_name": "Python 3"
    }
  },
  "cells": [
    {
      "cell_type": "markdown",
      "metadata": {
        "id": "view-in-github",
        "colab_type": "text"
      },
      "source": [
        "<a href=\"https://colab.research.google.com/github/EngHyu/til_algorithm/blob/master/%5B8%EC%9B%94_25%EC%9D%BC%5D_%ED%94%84%EB%A1%9C%EA%B7%B8%EB%9E%98%EB%A8%B8%EC%8A%A4_level_2_%EB%8B%A4%EC%96%91%ED%95%9C_%EB%AC%B8%EC%A0%9C.ipynb\" target=\"_parent\"><img src=\"https://colab.research.google.com/assets/colab-badge.svg\" alt=\"Open In Colab\"/></a>"
      ]
    },
    {
      "cell_type": "markdown",
      "metadata": {
        "id": "QzGr0vTyxGqr",
        "colab_type": "text"
      },
      "source": [
        "# 프로그래머스 Level 2 + Python3\n",
        "## 스킬트리\n",
        "https://programmers.co.kr/learn/courses/30/lessons/49993\n",
        "\n",
        "### 문제 설명\n",
        "선행 스킬이란 어떤 스킬을 배우기 전에 먼저 배워야 하는 스킬을 뜻합니다.\n",
        "\n",
        "예를 들어 선행 스킬 순서가 `스파크 → 라이트닝 볼트 → 썬더`일때, 썬더를 배우려면 먼저 라이트닝 볼트를 배워야 하고, 라이트닝 볼트를 배우려면 먼저 스파크를 배워야 합니다.\n",
        "\n",
        "위 순서에 없는 다른 스킬(힐링 등)은 순서에 상관없이 배울 수 있습니다. 따라서 `스파크 → 힐링 → 라이트닝 볼트 → 썬더`와 같은 스킬트리는 가능하지만, `썬더 → 스파크`나 `라이트닝 볼트 → 스파크 → 힐링 → 썬더`와 같은 스킬트리는 불가능합니다.\n",
        "\n",
        "선행 스킬 순서 skill과 유저들이 만든 스킬트리1를 담은 배열 skill_trees가 매개변수로 주어질 때, 가능한 스킬트리 개수를 return 하는 solution 함수를 작성해주세요.\n",
        "\n",
        "### 제한 조건\n",
        "- 스킬은 알파벳 대문자로 표기하며, 모든 문자열은 알파벳 대문자로만 이루어져 있습니다.\n",
        "- 스킬 순서와 스킬트리는 문자열로 표기합니다.\n",
        " - 예를 들어, `C → B → D`라면 \"CBD\"로 표기합니다\n",
        "- 선행 스킬 순서 skill의 길이는 1 이상 26 이하이며, 스킬은 중복해 주어지지 않습니다.\n",
        "- skill_trees는 길이 1 이상 20 이하인 배열입니다.\n",
        "- skill_trees의 원소는 스킬을 나타내는 문자열입니다.\n",
        " - skill_trees의 원소는 길이가 2 이상 26 이하인 문자열이며, 스킬이 중복해 주어지지 않습니다.\n",
        "\n",
        "### 입출력 예\n",
        "skill | skill_trees | return\n",
        "---|---|---\n",
        "\"CBD\"|[\"BACDE\", \"CBADF\", \"AECB\", \"BDA\"]|2\n",
        "\n",
        "### 입출력 예 설명\n",
        "- \"BACDE\": B 스킬을 배우기 전에 C 스킬을 먼저 배워야 합니다. 불가능한 스킬트립니다.\n",
        "- \"CBADF\": 가능한 스킬트리입니다.\n",
        "- \"AECB\": 가능한 스킬트리입니다.\n",
        "- \"BDA\": B 스킬을 배우기 전에 C 스킬을 먼저 배워야 합니다. 불가능한 스킬트리입니다.\n",
        "\n",
        "### 풀이\n",
        "각각의 스킬 트리에서 각 스킬의 인덱스를 찾습니다. 선행 스킬을 배우지 않았는데도 이후 스킬을 배웠거나, 스킬 순서가 뒤바뀌었으면 이후 스킬 체크를 무시(break)하고 넘어갑니다. 그렇지 않은 경우(else)에만 카운트합니다.\n",
        "\n",
        "이때 파이썬의 `for ... else` 구문을 사용하면 플래그 사용을 줄일 수 있습니다. `for ... else` 구문은 for 문이 break 없이 온전히 종료되었을 때 else가 실행되는 구문입니다."
      ]
    },
    {
      "cell_type": "code",
      "metadata": {
        "id": "L8MTNFZSw9XP",
        "colab_type": "code",
        "colab": {}
      },
      "source": [
        "def solution(skill, skill_trees):\n",
        "    answer = 0\n",
        "    for skill_tree in skill_trees:\n",
        "        arr = [skill_tree.find(char) for char in skill]\n",
        "        for idx, ele in enumerate(arr[1:]):\n",
        "            if ele == -1:\n",
        "                continue\n",
        "                \n",
        "            # ele != -1\n",
        "            if arr[idx] == -1 or arr[idx] > ele:\n",
        "                break\n",
        "                \n",
        "        else:\n",
        "            answer += 1\n",
        "            \n",
        "    return answer"
      ],
      "execution_count": 1,
      "outputs": []
    },
    {
      "cell_type": "code",
      "metadata": {
        "id": "4VtIlI43zcuj",
        "colab_type": "code",
        "colab": {
          "base_uri": "https://localhost:8080/",
          "height": 34
        },
        "outputId": "b6e60e39-77ea-482a-c60a-90ad075bc667"
      },
      "source": [
        "solution(\"CBD\", [\"BACDE\", \"CBADF\", \"AECB\", \"BDA\"]) # expect 2"
      ],
      "execution_count": 2,
      "outputs": [
        {
          "output_type": "execute_result",
          "data": {
            "text/plain": [
              "2"
            ]
          },
          "metadata": {
            "tags": []
          },
          "execution_count": 2
        }
      ]
    },
    {
      "cell_type": "markdown",
      "metadata": {
        "id": "B58XtUjP38eM",
        "colab_type": "text"
      },
      "source": [
        "## 기능개발\n",
        "https://programmers.co.kr/learn/courses/30/lessons/42586\n",
        "\n",
        "### 문제 설명\n",
        "프로그래머스 팀에서는 기능 개선 작업을 수행 중입니다. 각 기능은 진도가 100%일 때 서비스에 반영할 수 있습니다.\n",
        "\n",
        "또, 각 기능의 개발속도는 모두 다르기 때문에 뒤에 있는 기능이 앞에 있는 기능보다 먼저 개발될 수 있고, 이때 뒤에 있는 기능은 앞에 있는 기능이 배포될 때 함께 배포됩니다.\n",
        "\n",
        "먼저 배포되어야 하는 순서대로 작업의 진도가 적힌 정수 배열 progresses와 각 작업의 개발 속도가 적힌 정수 배열 speeds가 주어질 때 각 배포마다 몇 개의 기능이 배포되는지를 return 하도록 solution 함수를 완성하세요.\n",
        "\n",
        "### 제한 사항\n",
        "- 작업의 개수(progresses, speeds배열의 길이)는 100개 이하입니다.\n",
        "- 작업 진도는 100 미만의 자연수입니다.\n",
        "- 작업 속도는 100 이하의 자연수입니다.\n",
        "- 배포는 하루에 한 번만 할 수 있으며, 하루의 끝에 이루어진다고 가정합니다. 예를 들어 진도율이 95%인 작업의 개발 속도가 하루에 4%라면 배포는 2일 뒤에 이루어집니다.\n",
        "\n",
        "### 입출력 예\n",
        "progresses|speeds|return\n",
        "---|---|---\n",
        "[93,30,55]|[1,30,5]|[2,1]\n",
        "\n",
        "### 입출력 예 설명\n",
        "첫 번째 기능은 93% 완료되어 있고 하루에 1%씩 작업이 가능하므로 7일간 작업 후 배포가 가능합니다.\n",
        "\n",
        "두 번째 기능은 30%가 완료되어 있고 하루에 30%씩 작업이 가능하므로 3일간 작업 후 배포가 가능합니다. 하지만 이전 첫 번째 기능이 아직 완성된 상태가 아니기 때문에 첫 번째 기능이 배포되는 7일째 배포됩니다.\n",
        "\n",
        "세 번째 기능은 55%가 완료되어 있고 하루에 5%씩 작업이 가능하므로 9일간 작업 후 배포가 가능합니다.\n",
        "\n",
        "따라서 7일째에 2개의 기능, 9일째에 1개의 기능이 배포됩니다.\n",
        "\n",
        "※ 공지 - 2020년 7월 14일 테스트케이스가 추가되었습니다.\n",
        "\n",
        "### 풀이\n",
        "스택을 사용하여 배포일을 저장합니다. 이전 기능의 배포일보다 오래 걸릴 경우 days, answer 스택에 값을 추가하고, 아닐 경우 answer 스택 가장 위 항목을 +1 해줍니다."
      ]
    },
    {
      "cell_type": "code",
      "metadata": {
        "id": "1l9767iM4wUS",
        "colab_type": "code",
        "colab": {}
      },
      "source": [
        "from math import ceil\n",
        "def solution(progresses, speeds):   \n",
        "    answer = []; days = []\n",
        "    for p, s in zip(progresses, speeds):\n",
        "        day = ceil((100-p) / s)\n",
        "        if not days or day > days[-1]:\n",
        "            days.append(day)\n",
        "            answer.append(1)\n",
        "        else:\n",
        "            answer[-1] += 1\n",
        "            \n",
        "    return answer"
      ],
      "execution_count": 3,
      "outputs": []
    },
    {
      "cell_type": "code",
      "metadata": {
        "id": "LVy8HHzY42v-",
        "colab_type": "code",
        "colab": {
          "base_uri": "https://localhost:8080/",
          "height": 34
        },
        "outputId": "159eec8d-03f1-40cc-aabe-caf290b1ade1"
      },
      "source": [
        "solution([93,30,55], [1,30,5]) # expect [2,1]"
      ],
      "execution_count": 4,
      "outputs": [
        {
          "output_type": "execute_result",
          "data": {
            "text/plain": [
              "[2, 1]"
            ]
          },
          "metadata": {
            "tags": []
          },
          "execution_count": 4
        }
      ]
    },
    {
      "cell_type": "markdown",
      "metadata": {
        "id": "Ob77XDEw5qAN",
        "colab_type": "text"
      },
      "source": [
        "## 더 맵게\n",
        "https://programmers.co.kr/learn/courses/30/lessons/42626\n",
        "\n",
        "### 문제 설명\n",
        "매운 것을 좋아하는 Leo는 모든 음식의 스코빌 지수를 K 이상으로 만들고 싶습니다. 모든 음식의 스코빌 지수를 K 이상으로 만들기 위해 Leo는 스코빌 지수가 가장 낮은 두 개의 음식을 아래와 같이 특별한 방법으로 섞어 새로운 음식을 만듭니다.\n",
        "\n",
        "```\n",
        "섞은 음식의 스코빌 지수 = 가장 맵지 않은 음식의 스코빌 지수 + (두 번째로 맵지 않은 음식의 스코빌 지수 * 2)\n",
        "```\n",
        "\n",
        "Leo는 모든 음식의 스코빌 지수가 K 이상이 될 때까지 반복하여 섞습니다.\n",
        "\n",
        "Leo가 가진 음식의 스코빌 지수를 담은 배열 scoville과 원하는 스코빌 지수 K가 주어질 때, 모든 음식의 스코빌 지수를 K 이상으로 만들기 위해 섞어야 하는 최소 횟수를 return 하도록 solution 함수를 작성해주세요.\n",
        "\n",
        "### 제한 사항\n",
        "- scoville의 길이는 2 이상 1,000,000 이하입니다.\n",
        "- K는 0 이상 1,000,000,000 이하입니다.\n",
        "- scoville의 원소는 각각 0 이상 1,000,000 이하입니다.\n",
        "- 모든 음식의 스코빌 지수를 K 이상으로 만들 수 없는 경우에는 -1을 return 합니다.\n",
        "\n",
        "### 입출력 예\n",
        "scoville|K|return\n",
        "---|---|---\n",
        "[1, 2, 3, 9, 10, 12]|7|2\n",
        "\n",
        "### 입출력 예 설명\n",
        "1. 스코빌 지수가 1인 음식과 2인 음식을 섞으면 음식의 스코빌 지수가 아래와 같이 됩니다.\n",
        "새로운 음식의 스코빌 지수 = 1 + (2 * 2) = 5\n",
        "가진 음식의 스코빌 지수 = [5, 3, 9, 10, 12]\n",
        "1. 스코빌 지수가 3인 음식과 5인 음식을 섞으면 음식의 스코빌 지수가 아래와 같이 됩니다.\n",
        "새로운 음식의 스코빌 지수 = 3 + (5 * 2) = 13\n",
        "가진 음식의 스코빌 지수 = [13, 9, 10, 12]\n",
        "\n",
        "모든 음식의 스코빌 지수가 7 이상이 되었고 이때 섞은 횟수는 2회입니다.\n",
        "\n",
        "### 풀이\n",
        "항상 스코빌 지수가 가장 작은 두 음식을 선택하여 섞고, 다시 음식 리스트에 집어넣어야 합니다. 따라서 요소를 정렬하는 성질을 가진 min heap을 사용하면 문제를 해결할 수 있습니다.\n",
        "\n",
        "파이썬에서 min heap은 `heapq` 라이브러리를 사용하여 구현할 수 있으나, 이는 자료구조가 아닌, 리스트를 힙 형태로 연산할 수 있게 해주는 함수의 집합으로 이해해야 합니다. 이때 리스트의 [0] 요소는 제일 작은 값을 가리킵니다."
      ]
    },
    {
      "cell_type": "code",
      "metadata": {
        "id": "lmHvI_VD6kwD",
        "colab_type": "code",
        "colab": {}
      },
      "source": [
        "import heapq\n",
        "def solution(scoville, K):\n",
        "    heapq.heapify(scoville)\n",
        "    \n",
        "    for i in range(1, len(scoville)):\n",
        "        first = heapq.heappop(scoville)\n",
        "        second = heapq.heappop(scoville) * 2\n",
        "        heapq.heappush(scoville, first+second)\n",
        "        if (scoville[0] >= K):\n",
        "            return i\n",
        "        \n",
        "    return -1"
      ],
      "execution_count": 5,
      "outputs": []
    },
    {
      "cell_type": "code",
      "metadata": {
        "id": "Q8Ypmzip6wvM",
        "colab_type": "code",
        "colab": {
          "base_uri": "https://localhost:8080/",
          "height": 34
        },
        "outputId": "eaa6841a-b04e-48db-a270-7cb12c7ff718"
      },
      "source": [
        "solution([1,2,3,9,10,12], 7) # expect 2"
      ],
      "execution_count": 6,
      "outputs": [
        {
          "output_type": "execute_result",
          "data": {
            "text/plain": [
              "2"
            ]
          },
          "metadata": {
            "tags": []
          },
          "execution_count": 6
        }
      ]
    },
    {
      "cell_type": "markdown",
      "metadata": {
        "id": "GS0TfK8t7Fxb",
        "colab_type": "text"
      },
      "source": [
        "## 전화번호 목록\n",
        "https://programmers.co.kr/learn/courses/30/lessons/42577\n",
        "\n",
        "### 문제 설명\n",
        "전화번호부에 적힌 전화번호 중, 한 번호가 다른 번호의 접두어인 경우가 있는지 확인하려 합니다.\n",
        "전화번호가 다음과 같을 경우, 구조대 전화번호는 영석이의 전화번호의 접두사입니다.\n",
        "\n",
        "- 구조대 : 119\n",
        "- 박준영 : 97 674 223\n",
        "- 지영석 : 11 9552 4421\n",
        "\n",
        "전화번호부에 적힌 전화번호를 담은 배열 phone_book 이 solution 함수의 매개변수로 주어질 때, 어떤 번호가 다른 번호의 접두어인 경우가 있으면 false를 그렇지 않으면 true를 return 하도록 solution 함수를 작성해주세요.\n",
        "\n",
        "### 제한 사항\n",
        "- phone_book의 길이는 1 이상 1,000,000 이하입니다.\n",
        "- 각 전화번호의 길이는 1 이상 20 이하입니다.\n",
        "\n",
        "### 입출력 예제\n",
        "phone_book|return\n",
        "---|---\n",
        "[119, 97674223, 1195524421]|false\n",
        "[123,456,789]|true\n",
        "[12,123,1235,567,88]|false\n",
        "\n",
        "### 입출력 예 설명\n",
        "#### 입출력 예 #1\n",
        "앞에서 설명한 예와 같습니다.\n",
        "\n",
        "#### 입출력 예 #2\n",
        "한 번호가 다른 번호의 접두사인 경우가 없으므로, 답은 true입니다.\n",
        "\n",
        "#### 입출력 예 #3\n",
        "첫 번째 전화번호, “12”가 두 번째 전화번호 “123”의 접두사입니다. 따라서 답은 false입니다.\n",
        "\n",
        "### 알림\n",
        "2019년 5월 13일, 테스트 케이스가 변경되었습니다. 이로 인해 이전에 통과하던 코드가 더 이상 통과하지 않을 수 있습니다.\n",
        "\n",
        "### 출처\n",
        "https://ncpc.idi.ntnu.no/ncpc2007/ncpc2007problems.pdf\n",
        "\n",
        "### 풀이\n",
        "리스트를 정렬하면 앞 부분이 일치하여도 길이가 더 긴 단어가 뒤에 위치합니다. 이를 이용하여 뒷 요소가 앞 요소로 시작하는지 확인합니다.\n",
        "\n",
        "왜 해시로 분류되어 있는지 모르겠네요."
      ]
    },
    {
      "cell_type": "code",
      "metadata": {
        "id": "vDujIMhu76T-",
        "colab_type": "code",
        "colab": {}
      },
      "source": [
        "def solution(phoneBook):\n",
        "    phoneBook = sorted(phoneBook)\n",
        "\n",
        "    for p1, p2 in zip(phoneBook, phoneBook[1:]):\n",
        "        if p2.startswith(p1):\n",
        "            return False\n",
        "        \n",
        "    return True"
      ],
      "execution_count": 7,
      "outputs": []
    },
    {
      "cell_type": "code",
      "metadata": {
        "id": "VwVaNifD77yt",
        "colab_type": "code",
        "colab": {
          "base_uri": "https://localhost:8080/",
          "height": 68
        },
        "outputId": "2141d22a-c766-4846-ca23-7ac5a0760531"
      },
      "source": [
        "print(solution([\"119\", \"97674223\", \"1195524421\"]))  # expect false\n",
        "print(solution([\"123\", \"456\", \"789\"]))              # expect true\n",
        "print(solution([\"12\", \"123\", \"1235\", \"567\", \"88\"])) # expect false"
      ],
      "execution_count": 8,
      "outputs": [
        {
          "output_type": "stream",
          "text": [
            "False\n",
            "True\n",
            "False\n"
          ],
          "name": "stdout"
        }
      ]
    },
    {
      "cell_type": "markdown",
      "metadata": {
        "id": "hwfFMmAB9jbt",
        "colab_type": "text"
      },
      "source": [
        "## [1차] 뉴스 클러스터링\n",
        "https://programmers.co.kr/learn/courses/30/lessons/17677\n",
        "\n",
        "### 문제 설명\n",
        "여러 언론사에서 쏟아지는 뉴스, 특히 속보성 뉴스를 보면 비슷비슷한 제목의 기사가 많아 정작 필요한 기사를 찾기가 어렵다. Daum 뉴스의 개발 업무를 맡게 된 신입사원 튜브는 사용자들이 편리하게 다양한 뉴스를 찾아볼 수 있도록 문제점을 개선하는 업무를 맡게 되었다.\n",
        "\n",
        "개발의 방향을 잡기 위해 튜브는 우선 최근 화제가 되고 있는 카카오 신입 개발자 공채 관련 기사를 검색해보았다.\n",
        "\n",
        "- 카카오 첫 공채..'블라인드' 방식 채용\n",
        "- 카카오, 합병 후 첫 공채.. 블라인드 전형으로 개발자 채용\n",
        "- 카카오, 블라인드 전형으로 신입 개발자 공채\n",
        "- 카카오 공채, 신입 개발자 코딩 능력만 본다\n",
        "- 카카오, 신입 공채.. 코딩 실력만 본다\n",
        "- 카카오 코딩 능력만으로 2018 신입 개발자 뽑는다\n",
        "\n",
        "기사의 제목을 기준으로 블라인드 전형에 주목하는 기사와 코딩 테스트에 주목하는 기사로 나뉘는 걸 발견했다. 튜브는 이들을 각각 묶어서 보여주면 카카오 공채 관련 기사를 찾아보는 사용자에게 유용할 듯싶었다.\n",
        "\n",
        "유사한 기사를 묶는 기준을 정하기 위해서 논문과 자료를 조사하던 튜브는 자카드 유사도라는 방법을 찾아냈다.\n",
        "\n",
        "자카드 유사도는 집합 간의 유사도를 검사하는 여러 방법 중의 하나로 알려져 있다. 두 집합 A, B 사이의 자카드 유사도 J(A, B)는 두 집합의 교집합 크기를 두 집합의 합집합 크기로 나눈 값으로 정의된다.\n",
        "\n",
        "예를 들어 집합 A = {1, 2, 3}, 집합 B = {2, 3, 4}라고 할 때, 교집합 A ∩ B = {2, 3}, 합집합 A ∪ B = {1, 2, 3, 4}이 되므로, 집합 A, B 사이의 자카드 유사도 J(A, B) = 2/4 = 0.5가 된다. 집합 A와 집합 B가 모두 공집합일 경우에는 나눗셈이 정의되지 않으니 따로 J(A, B) = 1로 정의한다.\n",
        "\n",
        "자카드 유사도는 원소의 중복을 허용하는 다중집합에 대해서 확장할 수 있다. 다중집합 A는 원소 1을 3개 가지고 있고, 다중집합 B는 원소 1을 5개 가지고 있다고 하자. 이 다중집합의 교집합 A ∩ B는 원소 1을 min(3, 5)인 3개, 합집합 A ∪ B는 원소 1을 max(3, 5)인 5개 가지게 된다. 다중집합 A = {1, 1, 2, 2, 3}, 다중집합 B = {1, 2, 2, 4, 5}라고 하면, 교집합 A ∩ B = {1, 2, 2}, 합집합 A ∪ B = {1, 1, 2, 2, 3, 4, 5}가 되므로, 자카드 유사도 J(A, B) = 3/7, 약 0.42가 된다.\n",
        "\n",
        "이를 이용하여 문자열 사이의 유사도를 계산하는데 이용할 수 있다. 문자열 FRANCE와 FRENCH가 주어졌을 때, 이를 두 글자씩 끊어서 다중집합을 만들 수 있다. 각각 {FR, RA, AN, NC, CE}, {FR, RE, EN, NC, CH}가 되며, 교집합은 {FR, NC}, 합집합은 {FR, RA, AN, NC, CE, RE, EN, CH}가 되므로, 두 문자열 사이의 자카드 유사도 J(\"FRANCE\", \"FRENCH\") = 2/8 = 0.25가 된다.\n",
        "\n",
        "### 입력 형식\n",
        "- 입력으로는 str1과 str2의 두 문자열이 들어온다. 각 문자열의 길이는 2 이상, 1,000 이하이다.\n",
        "- 입력으로 들어온 문자열은 두 글자씩 끊어서 다중집합의 원소로 만든다. 이때 영문자로 된 글자 쌍만 유효하고, 기타 공백이나 숫자, 특수 문자가 들어있는 경우는 그 글자 쌍을 버린다. 예를 들어 ab+가 입력으로 들어오면, ab만 다중집합의 원소로 삼고, b+는 버린다.\n",
        "- 다중집합 원소 사이를 비교할 때, 대문자와 소문자의 차이는 무시한다. AB와 Ab, ab는 같은 원소로 취급한다.\n",
        "\n",
        "### 출력 형식\n",
        "입력으로 들어온 두 문자열의 자카드 유사도를 출력한다. 유사도 값은 0에서 1 사이의 실수이므로, 이를 다루기 쉽도록 65536을 곱한 후에 소수점 아래를 버리고 정수부만 출력한다.\n",
        "\n",
        "### 예제 입출력\n",
        "str1|str2|answer\n",
        "---|---|---\n",
        "FRANCE|french|16384\n",
        "handshake|shake hands|65536\n",
        "aa1+aa2|AAAA12|43690\n",
        "E=M*C^2|e=m*c^2|65536\n",
        "\n",
        "### 해설 보러가기\n",
        "http://tech.kakao.com/2017/09/27/kakao-blind-recruitment-round-1/\n",
        "\n",
        "### 풀이\n",
        "문자열을 주어진 내용대로 두 자리 씩 끊어 집합으로 변환하고, 교집합, 합집합을 구하는 게 주요한 내용입니다.\n",
        "\n",
        "단순하게 풀수록 길어지고, 짧게 할수록 기교가 많이 들어가는 문제입니다.\n",
        "\n",
        "문자열에 `.isalpha()` 메소드를 호출하여 알파벳으로 이루어진 문자열인지 확인하는 방법도 있습니다.\n",
        "\n",
        "다음과 같이 파이썬의 집합에 &, | 연산자를 사용하여 교집합, 합집합을 표현할 수 있음은 나중에 알게 되었습니다.\n",
        "```\n",
        "gyo = set(str1) & set(str2)\n",
        "hap = set(str1) | set(str2)\n",
        "```"
      ]
    },
    {
      "cell_type": "code",
      "metadata": {
        "id": "XwrB462O-JnQ",
        "colab_type": "code",
        "colab": {}
      },
      "source": [
        "import re\n",
        "def convert(string):\n",
        "    set = []\n",
        "    for i in range(len(string)-1):\n",
        "        text = string[i:i+2].lower()\n",
        "        if re.search(\"[^a-z]\", text):\n",
        "            continue\n",
        "        set.append(text)\n",
        "    return set\n",
        "\n",
        "def interUnion(set1, set2):\n",
        "    intersect = []\n",
        "    union = []\n",
        "    while set1 and set2:\n",
        "        ele = set1.pop(0)\n",
        "        if ele in set2:\n",
        "            set2.remove(ele)\n",
        "            intersect.append(ele)\n",
        "        union.append(ele)\n",
        "        \n",
        "    union += set2\n",
        "    return intersect, union\n",
        "\n",
        "def solution(str1, str2):\n",
        "    set1 = convert(str1)\n",
        "    set2 = convert(str2)\n",
        "    \n",
        "    intersect, union = interUnion(set1, set2)\n",
        "    if intersect == union:\n",
        "        return 65536\n",
        "    \n",
        "    return int(len(intersect) / len(union) * 65536)"
      ],
      "execution_count": 9,
      "outputs": []
    },
    {
      "cell_type": "code",
      "metadata": {
        "id": "BDP91n9Y-RxK",
        "colab_type": "code",
        "colab": {
          "base_uri": "https://localhost:8080/",
          "height": 85
        },
        "outputId": "2fd091ad-84db-416c-8de3-87e97ebd8a34"
      },
      "source": [
        "print(solution(\"FRANCE\", \"french\"))          # expect 16384\n",
        "print(solution(\"handshake\", \"shake hands\"))  # expect 65536\n",
        "print(solution(\"aa1+aa2\", \"AAAA12\"))         # expect 43690\n",
        "print(solution(\"E=M*C^2\", \"e=m*c^2\"))        # expect 65536"
      ],
      "execution_count": 10,
      "outputs": [
        {
          "output_type": "stream",
          "text": [
            "16384\n",
            "65536\n",
            "43690\n",
            "65536\n"
          ],
          "name": "stdout"
        }
      ]
    },
    {
      "cell_type": "code",
      "metadata": {
        "id": "C7wpUD9h__2b",
        "colab_type": "code",
        "colab": {
          "base_uri": "https://localhost:8080/",
          "height": 85
        },
        "outputId": "77969042-664e-4fbd-a351-5ffe650ba505"
      },
      "source": [
        "def solution(str1, str2):\n",
        "    convert = lambda text: [text[i:i+2].lower() for i in range(len(text)-1) if text[i:i+2].isalpha()]\n",
        "    list1 = convert(str1)\n",
        "    list2 = convert(str2)\n",
        "\n",
        "    intersect = set(list1) & set(list2)\n",
        "    union = set(list1) | set(list2)\n",
        "\n",
        "    if not union:\n",
        "        return 65536\n",
        "\n",
        "    count = lambda set, func: sum([func(list1.count(ele), list2.count(ele)) for ele in set])\n",
        "    return int(count(intersect, min) / count(union, max) * 65536)\n",
        "\n",
        "print(solution(\"FRANCE\", \"french\"))          # expect 16384\n",
        "print(solution(\"handshake\", \"shake hands\"))  # expect 65536\n",
        "print(solution(\"aa1+aa2\", \"AAAA12\"))         # expect 43690\n",
        "print(solution(\"E=M*C^2\", \"e=m*c^2\"))        # expect 65536"
      ],
      "execution_count": 11,
      "outputs": [
        {
          "output_type": "stream",
          "text": [
            "16384\n",
            "65536\n",
            "43690\n",
            "65536\n"
          ],
          "name": "stdout"
        }
      ]
    },
    {
      "cell_type": "markdown",
      "metadata": {
        "id": "TBRwDjwOERys",
        "colab_type": "text"
      },
      "source": [
        "## 폰켓몬\n",
        "https://programmers.co.kr/learn/courses/30/lessons/1845\n",
        "\n",
        "### 문제 설명\n",
        "당신은 폰켓몬을 잡기 위한 오랜 여행 끝에, 홍 박사님의 연구실에 도착했습니다. 홍 박사님은 당신에게 자신의 연구실에 있는 총 N 마리의 폰켓몬 중에서 N/2마리를 가져가도 좋다고 했습니다.\n",
        "\n",
        "홍 박사님 연구실의 폰켓몬은 종류에 따라 번호를 붙여 구분합니다. 따라서 같은 종류의 폰켓몬은 같은 번호를 가지고 있습니다. 예를 들어 연구실에 총 4마리의 폰켓몬이 있고, 각 폰켓몬의 종류 번호가 [3번, 1번, 2번, 3번]이라면 이는 3번 폰켓몬 두 마리, 1번 폰켓몬 한 마리, 2번 폰켓몬 한 마리가 있음을 나타냅니다. 이때, 4마리의 폰켓몬 중 2마리를 고르는 방법은 다음과 같이 6가지가 있습니다.\n",
        "\n",
        "1. 첫 번째(3번), 두 번째(1번) 폰켓몬을 선택\n",
        "1. 첫 번째(3번), 세 번째(2번) 폰켓몬을 선택\n",
        "1. 첫 번째(3번), 네 번째(3번) 폰켓몬을 선택\n",
        "1. 두 번째(1번), 세 번째(2번) 폰켓몬을 선택\n",
        "1. 두 번째(1번), 네 번째(3번) 폰켓몬을 선택\n",
        "1. 세 번째(2번), 네 번째(3번) 폰켓몬을 선택\n",
        "\n",
        "이때, 첫 번째(3번) 폰켓몬과 네 번째(3번) 폰켓몬을 선택하는 방법은 한 종류(3번 폰켓몬 두 마리)의 폰켓몬만 가질 수 있지만, 다른 방법들은 모두 두 종류의 폰켓몬을 가질 수 있습니다. 따라서 위 예시에서 가질 수 있는 폰켓몬 종류 수의 최댓값은 2가 됩니다.\n",
        "\n",
        "당신은 최대한 다양한 종류의 폰켓몬을 가지길 원하기 때문에, 최대한 많은 종류의 폰켓몬을 포함해서 N/2마리를 선택하려 합니다. N마리 폰켓몬의 종류 번호가 담긴 배열 nums가 매개변수로 주어질 때, N/2마리의 폰켓몬을 선택하는 방법 중, 가장 많은 종류의 폰켓몬을 선택하는 방법을 찾아, 그때의 폰켓몬 종류 번호의 개수를 return 하도록 solution 함수를 완성해주세요.\n",
        "\n",
        "### 제한사항\n",
        "- nums는 폰켓몬의 종류 번호가 담긴 1차원 배열입니다.\n",
        "- nums의 길이(N)는 1 이상 10,000 이하의 자연수이며, 항상 짝수로 주어집니다.\n",
        "- 폰켓몬의 종류 번호는 1 이상 200,000 이하의 자연수로 나타냅니다.\n",
        "- 가장 많은 종류의 폰켓몬을 선택하는 방법이 여러 가지인 경우에도, 선택할 수 있는 폰켓몬 종류 개수의 최댓값 하나만 return 하면 됩니다.\n",
        "\n",
        "### 입출력 예\n",
        "nums|result\n",
        "---|---\n",
        "[3,1,2,3]|2\n",
        "[3,3,3,2,2,4]|3\n",
        "[3,3,3,2,2,2]|2\n",
        "\n",
        "### 입출력 예 설명\n",
        "#### 입출력 예 #1\n",
        "문제의 예시와 같습니다.\n",
        "\n",
        "#### 입출력 예 #2\n",
        "6마리의 폰켓몬이 있으므로, 3마리의 폰켓몬을 골라야 합니다.\n",
        "\n",
        "가장 많은 종류의 폰켓몬을 고르기 위해서는 3번 폰켓몬 한 마리, 2번 폰켓몬 한 마리, 4번 폰켓몬 한 마리를 고르면 되며, 따라서 3을 return 합니다.\n",
        "\n",
        "#### 입출력 예 #3\n",
        "6마리의 폰켓몬이 있으므로, 3마리의 폰켓몬을 골라야 합니다.\n",
        "\n",
        "가장 많은 종류의 폰켓몬을 고르기 위해서는 3번 폰켓몬 한 마리와 2번 폰켓몬 두 마리를 고르거나, 혹은 3번 폰켓몬 두 마리와 3번 폰켓몬 한 마리를 고르면 됩니다. 따라서 최대 고를 수 있는 폰켓몬 종류의 수는 2입니다.\n",
        "\n",
        "### 풀이\n",
        "문제만 장황하고, 답은 간단합니다. 짝수 N 마리의 폰켓몬이 있을 때, N/2 마리를 선택하니, 최대로 고를 수 있는 폰켓몬 종류는 N/2가 됩니다. 폰켓몬이 중복되어, 전체 폰켓몬 종류가 N/2보다 작아질 때에는 이 값이 줄어듭니다.\n",
        "\n",
        "폰켓몬을 집합으로 만들어 폰켓몬 종류의 수를 구합니다. 해당 값과 N/2 중 더 작은 값을 선택합니다."
      ]
    },
    {
      "cell_type": "code",
      "metadata": {
        "id": "APdEQzicFZ__",
        "colab_type": "code",
        "colab": {}
      },
      "source": [
        "def solution(nums):\n",
        "    max_n = len(nums) // 2\n",
        "    return min(max_n, len(set(nums)))\n",
        "\n",
        "# or\n",
        "solution = lambda nums: min(len(nums)//2, len(set(nums)))"
      ],
      "execution_count": 12,
      "outputs": []
    },
    {
      "cell_type": "code",
      "metadata": {
        "id": "18cl2z3uFmrs",
        "colab_type": "code",
        "colab": {
          "base_uri": "https://localhost:8080/",
          "height": 68
        },
        "outputId": "4932744e-5996-4248-bd20-0e72a12159c5"
      },
      "source": [
        "print(solution([3,1,2,3]))     # expect 2\n",
        "print(solution([3,3,3,2,2,4])) # expect 3\n",
        "print(solution([3,3,3,2,2,2])) # expect 2"
      ],
      "execution_count": 13,
      "outputs": [
        {
          "output_type": "stream",
          "text": [
            "2\n",
            "3\n",
            "2\n"
          ],
          "name": "stdout"
        }
      ]
    },
    {
      "cell_type": "markdown",
      "metadata": {
        "id": "AFERSjw7GLGD",
        "colab_type": "text"
      },
      "source": [
        "## 튜플\n",
        "https://programmers.co.kr/learn/courses/30/lessons/64065\n",
        "\n",
        "### 문제 설명\n",
        "셀수있는 수량의 순서있는 열거 또는 어떤 순서를 따르는 요소들의 모음을 튜플(tuple)이라고 합니다. n개의 요소를 가진 튜플을 n-튜플(n-tuple)이라고 하며, 다음과 같이 표현할 수 있습니다.\n",
        "\n",
        "- (a1, a2, a3, ..., an)\n",
        "\n",
        "튜플은 다음과 같은 성질을 가지고 있습니다.\n",
        "\n",
        "1. 중복된 원소가 있을 수 있습니다. ex : (2, 3, 1, 2)\n",
        "1. 원소에 정해진 순서가 있으며, 원소의 순서가 다르면 서로 다른 튜플입니다. ex : (1, 2, 3) ≠ (1, 3, 2)\n",
        "1. 튜플의 원소 개수는 유한합니다.\n",
        "\n",
        "원소의 개수가 n개이고, 중복되는 원소가 없는 튜플 `(a1, a2, a3, ..., an)`이 주어질 때(단, a1, a2, ..., an은 자연수), 이는 다음과 같이 집합 기호 '{', '}'를 이용해 표현할 수 있습니다.\n",
        "\n",
        "- {{a1}, {a1, a2}, {a1, a2, a3}, {a1, a2, a3, a4}, ... {a1, a2, a3, a4, ..., an}}\n",
        "\n",
        "예를 들어 튜플이 (2, 1, 3, 4)인 경우 이는\n",
        "\n",
        "- {{2}, {2, 1}, {2, 1, 3}, {2, 1, 3, 4}}\n",
        "\n",
        "와 같이 표현할 수 있습니다. 이때, 집합은 원소의 순서가 바뀌어도 상관없으므로\n",
        "\n",
        "- {{2}, {2, 1}, {2, 1, 3}, {2, 1, 3, 4}}\n",
        "- {{2, 1, 3, 4}, {2}, {2, 1, 3}, {2, 1}}\n",
        "- {{1, 2, 3}, {2, 1}, {1, 2, 4, 3}, {2}}\n",
        "\n",
        "는 모두 같은 튜플 (2, 1, 3, 4)를 나타냅니다.\n",
        "\n",
        "특정 튜플을 표현하는 집합이 담긴 문자열 s가 매개변수로 주어질 때, s가 표현하는 튜플을 배열에 담아 return 하도록 solution 함수를 완성해주세요.\n",
        "\n",
        "### 제한사항\n",
        "- s의 길이는 5 이상 1,000,000 이하입니다.\n",
        "- s는 숫자와 '{', '}', ',' 로만 이루어져 있습니다.\n",
        "- 숫자가 0으로 시작하는 경우는 없습니다.\n",
        "- s는 항상 중복되는 원소가 없는 튜플을 올바르게 표현하고 있습니다.\n",
        "- s가 표현하는 튜플의 원소는 1 이상 100,000 이하인 자연수입니다.\n",
        "- return 하는 배열의 길이가 1 이상 500 이하인 경우만 입력으로 주어집니다.\n",
        "\n",
        "### 입출력 예\n",
        "s|result\n",
        "---|---\n",
        "\"{{2},{2,1},{2,1,3},{2,1,3,4}}\"|[2, 1, 3, 4]\n",
        "\"{{1,2,3},{2,1},{1,2,4,3},{2}}\"|[2, 1, 3, 4]\n",
        "\"{{20,111},{111}}\"|[111, 20]\n",
        "\"{{123}}\"|[123]\n",
        "\"{{4,2,3},{3},{2,3,4,1},{2,3}}\"|[3, 2, 4, 1]\n",
        "\n",
        "### 입출력 예에 대한 설명\n",
        "#### 입출력 예 #1\n",
        "문제 예시와 같습니다.\n",
        "\n",
        "#### 입출력 예 #2\n",
        "문제 예시와 같습니다.\n",
        "\n",
        "#### 입출력 예 #3\n",
        "(111, 20)을 집합 기호를 이용해 표현하면 {{111}, {111,20}}이 되며, 이는 {{20,111},{111}}과 같습니다.\n",
        "\n",
        "#### 입출력 예 #4\n",
        "(123)을 집합 기호를 이용해 표현하면 {{123}} 입니다.\n",
        "\n",
        "#### 입출력 예 #5\n",
        "(3, 2, 4, 1)을 집합 기호를 이용해 표현하면 {{3},{3,2},{3,2,4},{3,2,4,1}}이 되며, 이는 {{4,2,3},{3},{2,3,4,1},{2,3}}과 같습니다.\n",
        "\n",
        "### 풀이\n",
        "주어진 텍스트를 분해하여 배열로 만든 뒤, 요소 별 반복 횟수를 세어 딕셔너리 형태로 만듭니다. 자주 나온 순서대로 이어 붙여 배열을 완성합니다."
      ]
    },
    {
      "cell_type": "code",
      "metadata": {
        "id": "1HvpsqeTGtsE",
        "colab_type": "code",
        "colab": {}
      },
      "source": [
        "import re\n",
        "from functools import reduce\n",
        "from collections import Counter\n",
        "\n",
        "def solution(string):\n",
        "    return reduce(\n",
        "        lambda acc, ele: acc + [int(ele[0])],\n",
        "        Counter(re.findall('[\\d]+', string)).most_common(),\n",
        "        []\n",
        "    )"
      ],
      "execution_count": 14,
      "outputs": []
    },
    {
      "cell_type": "code",
      "metadata": {
        "id": "lKwD6gpBGrzB",
        "colab_type": "code",
        "colab": {
          "base_uri": "https://localhost:8080/",
          "height": 102
        },
        "outputId": "896e85b6-d560-4376-ee7b-68b460c85b2d"
      },
      "source": [
        "print(solution(\"{{2},{2,1},{2,1,3},{2,1,3,4}}\")) # expect [2, 1, 3, 4]\n",
        "print(solution(\"{{1,2,3},{2,1},{1,2,4,3},{2}}\")) # expect [2, 1, 3, 4]\n",
        "print(solution(\"{{20,111},{111}}\"))              # expect [111, 20]\n",
        "print(solution(\"{{123}}\"))                       # expect [123]\n",
        "print(solution(\"{{4,2,3},{3},{2,3,4,1},{2,3}}\")) # expect [3, 2, 4, 1]"
      ],
      "execution_count": 15,
      "outputs": [
        {
          "output_type": "stream",
          "text": [
            "[2, 1, 3, 4]\n",
            "[2, 1, 3, 4]\n",
            "[111, 20]\n",
            "[123]\n",
            "[3, 2, 4, 1]\n"
          ],
          "name": "stdout"
        }
      ]
    }
  ]
}