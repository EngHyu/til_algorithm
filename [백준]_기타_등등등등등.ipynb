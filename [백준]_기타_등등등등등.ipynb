{
  "nbformat": 4,
  "nbformat_minor": 0,
  "metadata": {
    "colab": {
      "name": "[백준] 기타 등등등등등",
      "provenance": [],
      "authorship_tag": "ABX9TyPoGiUmOy7QFA0B+gEZSeC3",
      "include_colab_link": true
    },
    "kernelspec": {
      "name": "python3",
      "display_name": "Python 3"
    }
  },
  "cells": [
    {
      "cell_type": "markdown",
      "metadata": {
        "id": "view-in-github",
        "colab_type": "text"
      },
      "source": [
        "<a href=\"https://colab.research.google.com/github/EngHyu/til_algorithm/blob/master/%5B%EB%B0%B1%EC%A4%80%5D_%EA%B8%B0%ED%83%80_%EB%93%B1%EB%93%B1%EB%93%B1%EB%93%B1%EB%93%B1.ipynb\" target=\"_parent\"><img src=\"https://colab.research.google.com/assets/colab-badge.svg\" alt=\"Open In Colab\"/></a>"
      ]
    },
    {
      "cell_type": "markdown",
      "metadata": {
        "id": "tRUuQNUsKEAU",
        "colab_type": "text"
      },
      "source": [
        "# [백준] 2941번: 크로아티아 알파벳\n",
        "시간 제한|메모리 제한|제출|정답|맞은 사람|정답 비율\n",
        "---|---|---|---|---|---\n",
        "1 초|128 MB|38228|16362|14450|45.802%\n",
        "\n",
        "# 문제\n",
        "예전에는 운영체제에서 크로아티아 알파벳을 입력할 수가 없었다. 따라서, 다음과 같이 크로아티아 알파벳을 변경해서 입력했다.\n",
        "\n",
        "크로아티아 알파벳|변경\n",
        "---|---\n",
        "č|c=\n",
        "ć|c-\n",
        "dž|dz=\n",
        "đ|d-\n",
        "lj|lj\n",
        "nj|nj\n",
        "š|s=\n",
        "ž|z=\n",
        "\n",
        "예를 들어, `ljes=njak`은 크로아티아 알파벳 6개(lj, e, š, nj, a, k)로 이루어져 있다. 단어가 주어졌을 때, 몇 개의 크로아티아 알파벳으로 이루어져 있는지 출력한다.\n",
        "\n",
        "`dž`는 무조건 하나의 알파벳으로 쓰이고, d와 ž가 분리된 것으로 보지 않는다. `lj`와 `nj`도 마찬가지이다. 위 목록에 없는 알파벳은 한 글자씩 센다.\n",
        "\n",
        "# 입력\n",
        "첫째 줄에 최대 100글자의 단어가 주어진다. 알파벳 소문자와 '-', '='로만 이루어져 있다.\n",
        "\n",
        "단어는 크로아티아 알파벳으로 이루어져 있다. 문제 설명의 표에 나와있는 알파벳은 변경된 형태로 입력된다.\n",
        "\n",
        "# 출력\n",
        "입력으로 주어진 단어가 몇 개의 크로아티아 알파벳으로 이루어져 있는지 출력한다.\n",
        "\n",
        "# 예제 입력 1\n",
        "```\n",
        "ljes=njak\n",
        "```\n",
        "\n",
        "# 예제 출력 1\n",
        "```\n",
        "6\n",
        "```\n",
        "\n",
        "# 예제 입력 2\n",
        "```\n",
        "ddz=z=\n",
        "```\n",
        "\n",
        "# 예제 출력 2\n",
        "```\n",
        "3\n",
        "```\n",
        "\n",
        "# 예제 입력 3\n",
        "```\n",
        "nljj\n",
        "```\n",
        "\n",
        "# 예제 출력 3\n",
        "```\n",
        "3\n",
        "```\n",
        "\n",
        "# 예제 입력 4\n",
        "```\n",
        "c=c=\n",
        "```\n",
        "\n",
        "# 예제 출력 4\n",
        "```\n",
        "2\n",
        "```\n",
        "\n",
        "# 출처\n",
        "Contest > Croatian Open Competition in Informatics > COCI 2008/2009 > Contest #5 1번\n",
        "\n",
        "- 문제를 번역한 사람: baekjoon\n",
        "- 데이터를 추가한 사람: cake_monotone evenharder handong jh05013 veydpz zzangho\n",
        "- 문제의 오타를 찾은 사람: jh05013\n",
        "- 어색한 표현을 찾은 사람: jh05013\n",
        "\n",
        "# 풀이\n",
        "문자열을 처리하는 유형입니다. 정규표현식을 사용하여 해결했으며, `findall()` 사용 시 탐색 결과가 괄호 때문에 그룹화 되어 튜플 형태인 것에 주의합니다. 전체 문자열 길이에서 탐색된 길이만큼 빼주고, 탐색된 수만큼 더해주면 됩니다."
      ]
    },
    {
      "cell_type": "code",
      "metadata": {
        "id": "_dV6zccVKCiO",
        "colab_type": "code",
        "colab": {}
      },
      "source": [
        "import re\n",
        "text = input()\n",
        "regex = re.compile('(((dz|[csz])=)|[cd]-|[ln]j)')\n",
        "print(len(text) - sum([len(t[0])-1 for t in regex.findall(text)]))"
      ],
      "execution_count": null,
      "outputs": []
    }
  ]
}