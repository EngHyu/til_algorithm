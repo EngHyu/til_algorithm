{
  "nbformat": 4,
  "nbformat_minor": 0,
  "metadata": {
    "colab": {
      "name": "[백준] DP 첫 페이지부터 뿌수기.ipynb",
      "provenance": [],
      "collapsed_sections": [
        "rxkZnseK5KoJ",
        "3MV0lB-w6mEP",
        "4DpQcFHEe8mJ",
        "AFumYPUvi4Ov",
        "0AWBOMpLkeXn",
        "8SESZA0dlXgv",
        "x4PiSk5RqY2_",
        "ZwsvMY7yuLK4",
        "93IZY6qU0Hee",
        "7RKCK-z8EEVu"
      ],
      "include_colab_link": true
    },
    "kernelspec": {
      "name": "python3",
      "display_name": "Python 3"
    }
  },
  "cells": [
    {
      "cell_type": "markdown",
      "metadata": {
        "id": "view-in-github",
        "colab_type": "text"
      },
      "source": [
        "<a href=\"https://colab.research.google.com/github/EngHyu/til_algorithm/blob/master/%5B%EB%B0%B1%EC%A4%80%5D_DP_%EC%B2%AB_%ED%8E%98%EC%9D%B4%EC%A7%80%EB%B6%80%ED%84%B0_%EB%BF%8C%EC%88%98%EA%B8%B0.ipynb\" target=\"_parent\"><img src=\"https://colab.research.google.com/assets/colab-badge.svg\" alt=\"Open In Colab\"/></a>"
      ]
    },
    {
      "cell_type": "markdown",
      "metadata": {
        "id": "rxkZnseK5KoJ",
        "colab_type": "text"
      },
      "source": [
        "# 백준 1932번: 정수 삼각형\n",
        "https://www.acmicpc.net/problem/1932\n",
        "\n",
        "시간 제한 | 메모리 제한 | 제출 | 정답 | 맞은 사람 | 정답 비율\n",
        "---|---|---|---|---|---\n",
        "2 초 | 128 MB | 34786 | 20338 | 15072 | 58.708%\n",
        "\n",
        "# 문제\n",
        "```\n",
        "        7\n",
        "      3   8\n",
        "    8   1   0\n",
        "  2   7   4   4\n",
        "4   5   2   6   5\n",
        "```\n",
        "\n",
        "위 그림은 크기가 5인 정수 삼각형의 한 모습이다.\n",
        "\n",
        "맨 위층 7부터 시작해서 아래에 있는 수 중 하나를 선택하여 아래층으로 내려올 때, 이제까지 선택된 수의 합이 최대가 되는 경로를 구하는 프로그램을 작성하라. 아래층에 있는 수는 현재 층에서 선택된 수의 대각선 왼쪽 또는 대각선 오른쪽에 있는 것 중에서만 선택할 수 있다.\n",
        "\n",
        "삼각형의 크기는 1 이상 500 이하이다. 삼각형을 이루고 있는 각 수는 모두 정수이며, 범위는 0 이상 9999 이하이다.\n",
        "\n",
        "# 입력\n",
        "첫째 줄에 삼각형의 크기 n(1 ≤ n ≤ 500)이 주어지고, 둘째 줄부터 n+1번째 줄까지 정수 삼각형이 주어진다.\n",
        "\n",
        "# 출력\n",
        "첫째 줄에 합이 최대가 되는 경로에 있는 수의 합을 출력한다.\n",
        "\n",
        "# 예제 입력 1\n",
        "```\n",
        "5\n",
        "7\n",
        "3 8\n",
        "8 1 0\n",
        "2 7 4 4\n",
        "4 5 2 6 5\n",
        "```\n",
        "\n",
        "# 예제 출력 1\n",
        "```\n",
        "30\n",
        "```\n",
        "\n",
        "# 출처\n",
        "[Olympiad](https://www.acmicpc.net/category/2) > [International Olympiad in Informatics](https://www.acmicpc.net/category/99) > [IOI 1994](https://www.acmicpc.net/category/detail/541) 1번"
      ]
    },
    {
      "cell_type": "markdown",
      "metadata": {
        "id": "3MV0lB-w6mEP",
        "colab_type": "text"
      },
      "source": [
        "# DP = 점화식\n",
        "DP는 큰 문제를 작은 문제로 나누어 푸는 문제입니다. `Divide and Conquer`와는 달리 작은 문제의 답이 변경되지 않고, 반복됩니다. 즉, DP 문제를 일반화 하는 점화식을 찾으면 어렵지 않게 해결할 수 있습니다.\n",
        "\n",
        "# 정수 삼각형의 점화식\n",
        "정수 삼각형의 한 가운데를 기준으로 생각해보면, 마지막 줄 2에 도달하기 위한 경로는 두 가지입니다. 7에서부터 오는 경로와 4에서부터 오는 경로. 문제 정의에 따라, 둘 중 더 큰 쪽을 택해야 합니다. 이를 일반화 한 점화식은 다음과 같습니다.\n",
        "\n",
        ">$n_{i,j} = n_{i-1,j-1} + n_{i-1,j}$\n",
        "\n",
        "주의해야 할 점은, 이러한 점화식에는 예외가 존재할 수 있다는 것입니다. 위 문제에서 각 줄의 가장 왼쪽, 가장 오른쪽에 도달하는 경로는 한 가지 밖에 없으며, 점화식을 그대로 적용할 수 없습니다. 이 경우를 예외 처리한 코드는 아래와 같습니다."
      ]
    },
    {
      "cell_type": "code",
      "metadata": {
        "id": "VAxhheLz4_y9",
        "colab_type": "code",
        "colab": {}
      },
      "source": [
        "n = int(input()); tri = []\n",
        "for _ in range(n):\n",
        "    tri.append([int(x) for x in input().split(\" \")])\n",
        "    \n",
        "for i in range(1, n):\n",
        "    for j in range(i+1):\n",
        "        if j == i:\n",
        "            tri[i][j] += tri[i-1][j-1]\n",
        "        elif j == 0:\n",
        "            tri[i][j] += tri[i-1][j]\n",
        "        else:\n",
        "            tri[i][j] += max(tri[i-1][j-1], tri[i-1][j])\n",
        "        \n",
        "print(max(tri[-1]))"
      ],
      "execution_count": null,
      "outputs": []
    },
    {
      "cell_type": "markdown",
      "metadata": {
        "id": "4DpQcFHEe8mJ",
        "colab_type": "text"
      },
      "source": [
        "# 백준 9095번: 1, 2, 3 더하기\n",
        "\n",
        "https://www.acmicpc.net/problem/9095\n",
        "\n",
        "시간 제한 | 메모리 제한 | 제출 | 정답 | 맞은 사람 | 정답 비율\n",
        "---|---|---|---|---|---\n",
        "1 초 | 128 MB | 47199 | 30042 | 19984 | 61.799%\n",
        "\n",
        "# 문제\n",
        "정수 4를 1, 2, 3의 합으로 나타내는 방법은 총 7가지가 있다. 합을 나타낼 때는 수를 1개 이상 사용해야 한다.\n",
        "\n",
        "```\n",
        "1+1+1+1\n",
        "1+1+2\n",
        "1+2+1\n",
        "2+1+1\n",
        "2+2\n",
        "1+3\n",
        "3+1\n",
        "```\n",
        "\n",
        "정수 n이 주어졌을 때, n을 1, 2, 3의 합으로 나타내는 방법의 수를 구하는 프로그램을 작성하시오.\n",
        "\n",
        "# 입력\n",
        "첫째 줄에 테스트 케이스의 개수 T가 주어진다. 각 테스트 케이스는 한 줄로 이루어져 있고, 정수 n이 주어진다. n은 양수이며 11보다 작다.\n",
        "\n",
        "# 출력\n",
        "각 테스트 케이스마다, n을 1, 2, 3의 합으로 나타내는 방법의 수를 출력한다.\n",
        "\n",
        "# 예제 입력 1\n",
        "```\n",
        "3\n",
        "4\n",
        "7\n",
        "10\n",
        "```\n",
        "\n",
        "# 예제 출력 1\n",
        "```\n",
        "7\n",
        "44\n",
        "274\n",
        "```\n",
        "\n",
        "# 출처\n",
        "[ICPC](https://www.acmicpc.net/category/1) > [Regionals](https://www.acmicpc.net/category/7) > [Asia Pacific](https://www.acmicpc.net/category/42) > [Korea](https://www.acmicpc.net/category/211) > [Asia Regional - Taejon 2001](https://www.acmicpc.net/category/detail/884) PC번\n",
        "\n",
        "문제를 번역한 사람: baekjoon\n",
        "\n",
        "문제의 오타를 찾은 사람: standardraccoon wjrqur1200"
      ]
    },
    {
      "cell_type": "markdown",
      "metadata": {
        "id": "AFumYPUvi4Ov",
        "colab_type": "text"
      },
      "source": [
        "# 풀이\n",
        "정수 n이 주어졌을 때 이를 1, 2, 3을 이용하여 표현하는 방법의 수를 f(n)으로 설정하겠습니다. n은 (n-1) + 1, (n-2) + 2, (n-3) + 3 세 가지 방법으로 만들 수 있으니, 다음과 같은 점화식이 만들어집니다.\n",
        "\n",
        ">$f(n) = f(n-1) + f(n-2) + f(n-3)$\n",
        "\n",
        "물론 여기에도 n > 4라는 제약 조건이 붙습니다. 보다 효율적으로 계산하기 위해 순차적으로 모두 구해놓은 뒤, input으로 들어온 값만 출력하도록 설정했습니다."
      ]
    },
    {
      "cell_type": "code",
      "metadata": {
        "id": "28_E6el9gyhn",
        "colab_type": "code",
        "colab": {
          "base_uri": "https://localhost:8080/",
          "height": 136
        },
        "outputId": "d92cb26d-6d5f-482a-978e-3596eeb55761"
      },
      "source": [
        "n = int(input())\n",
        "query = [int(input()) for _ in range(n)]\n",
        "query_max = max(query) + 1\n",
        "\n",
        "methods = [1] * query_max\n",
        "methods[1] = 1\n",
        "methods[2] = 2\n",
        "methods[3] = 4\n",
        "\n",
        "for i in range(3, query_max):\n",
        "  methods[i] = methods[i-1] + methods[i-2] + methods[i-3]\n",
        "\n",
        "for q in query:\n",
        "  print(methods[q])"
      ],
      "execution_count": null,
      "outputs": [
        {
          "output_type": "stream",
          "text": [
            "3\n",
            "4\n",
            "7\n",
            "10\n",
            "7\n",
            "44\n",
            "274\n"
          ],
          "name": "stdout"
        }
      ]
    },
    {
      "cell_type": "markdown",
      "metadata": {
        "id": "0AWBOMpLkeXn",
        "colab_type": "text"
      },
      "source": [
        "# 백준 1003번: 피보나치 함수\n",
        "시간 제한 | 메모리 제한 | 제출 | 정답 | 맞은 사람 | 정답 비율\n",
        "---|---|---|---|---|---\n",
        "0.25 초 (추가 시간 없음) | 128 MB | 94004 | 23111 | 18237 | 29.676%\n",
        "\n",
        "# 문제\n",
        "다음 소스는 N번째 피보나치 수를 구하는 C++ 함수이다.\n",
        "\n",
        "```c++\n",
        "int fibonacci(int n) {\n",
        "    if (n == 0) {\n",
        "        printf(\"0\");\n",
        "        return 0;\n",
        "    } else if (n == 1) {\n",
        "        printf(\"1\");\n",
        "        return 1;\n",
        "    } else {\n",
        "        return fibonacci(n‐1) + fibonacci(n‐2);\n",
        "    }\n",
        "}\n",
        "```\n",
        "\n",
        "`fibonacci(3)`을 호출하면 다음과 같은 일이 일어난다.\n",
        "\n",
        "`fibonacci(3)`은 `fibonacci(2)`와 `fibonacci(1)` (첫 번째 호출)을 호출한다.\n",
        "`fibonacci(2)`는 `fibonacci(1)` (두 번째 호출)과 `fibonacci(0)`을 호출한다.\n",
        "두 번째 호출한 `fibonacci(1)`은 1을 출력하고 1을 리턴한다.\n",
        "`fibonacci(0)`은 0을 출력하고, 0을 리턴한다.\n",
        "`fibonacci(2)`는 `fibonacci(1)`과 `fibonacci(0)`의 결과를 얻고, 1을 리턴한다.\n",
        "첫 번째 호출한 `fibonacci(1)`은 1을 출력하고, 1을 리턴한다.\n",
        "`fibonacci(3)`은 `fibonacci(2)`와 `fibonacci(1)`의 결과를 얻고, 2를 리턴한다.\n",
        "1은 2번 출력되고, 0은 1번 출력된다. N이 주어졌을 때, `fibonacci(N)`을 호출했을 때, 0과 1이 각각 몇 번 출력되는지 구하는 프로그램을 작성하시오.\n",
        "\n",
        "# 입력\n",
        "첫째 줄에 테스트 케이스의 개수 T가 주어진다.\n",
        "\n",
        "각 테스트 케이스는 한 줄로 이루어져 있고, N이 주어진다. N은 40보다 작거나 같은 자연수 또는 0이다.\n",
        "\n",
        "# 출력\n",
        "각 테스트 케이스마다 0이 출력되는 횟수와 1이 출력되는 횟수를 공백으로 구분해서 출력한다.\n",
        "\n",
        "# 예제 입력 1\n",
        "```\n",
        "3\n",
        "0\n",
        "1\n",
        "3\n",
        "```\n",
        "\n",
        "# 예제 출력 1\n",
        "```\n",
        "1 0\n",
        "0 1\n",
        "1 2\n",
        "```\n",
        "\n",
        "# 출처\n",
        "문제를 번역한 사람: baekjoon\n",
        "\n",
        "어색한 표현을 찾은 사람: cyj101366\n",
        "\n",
        "데이터를 추가한 사람: doju wonrok97"
      ]
    },
    {
      "cell_type": "markdown",
      "metadata": {
        "id": "8SESZA0dlXgv",
        "colab_type": "text"
      },
      "source": [
        "# 풀이\n",
        "피보나치 함수 `fibonacci(n)`을 호출했을 때 0이 출력되는 횟수를 f0(n), 1이 출력되는 횟수를 f1(n)이라 설정합니다. 이때 다음과 같은 공식이 성립합니다.\n",
        "\n",
        ">$f0(n) = f0(n-1) + f0(n-2)$\n",
        "\n",
        ">$f1(n) = f1(n-1) + f1(n-2)$\n",
        "\n",
        ">$단, f0(0) = 1, f0(1) = 0, f1(0) = 0, f1(1) = 1$\n",
        "\n",
        "입력 값 중 가장 큰 값을 n으로 설정하여 $f0(n), f1(n)$을 구하면 모든 케이스에 대한 값을 구할 수 있습니다."
      ]
    },
    {
      "cell_type": "code",
      "metadata": {
        "id": "ZUq88zI_h80H",
        "colab_type": "code",
        "colab": {
          "base_uri": "https://localhost:8080/",
          "height": 136
        },
        "outputId": "af92468b-1d0f-4329-edf3-3c18d3166a9a"
      },
      "source": [
        "n = int(input())\n",
        "query = [int(input()) for _ in range(n)]\n",
        "query_max = max(query) + 1\n",
        "\n",
        "methods = [[0, 0] for _ in range(query_max)]\n",
        "methods[0] = [1, 0]\n",
        "methods[1] = [0, 1]\n",
        "\n",
        "for i in range(2, query_max):\n",
        "  methods[i][0] = methods[i-1][0] + methods[i-2][0]\n",
        "  methods[i][1] = methods[i-1][1] + methods[i-2][1]\n",
        "\n",
        "for q in query:\n",
        "  print(methods[q][0], methods[q][1])"
      ],
      "execution_count": null,
      "outputs": [
        {
          "output_type": "stream",
          "text": [
            "3\n",
            "20\n",
            "15\n",
            "18\n",
            "4181 6765\n",
            "377 610\n",
            "1597 2584\n"
          ],
          "name": "stdout"
        }
      ]
    },
    {
      "cell_type": "markdown",
      "metadata": {
        "id": "x4PiSk5RqY2_",
        "colab_type": "text"
      },
      "source": [
        "# 백준 11725번: 2×n 타일링\n",
        "https://www.acmicpc.net/problem/11726\n",
        "\n",
        "시간 제한 | 메모리 제한 | 제출 | 정답 | 맞은 사람 | 정답 비율\n",
        "---|---|---|---|---|---\n",
        "1 초 | 256 MB | 63385 | 23365 | 17179 | 34.648%\n",
        "\n",
        "# 문제\n",
        "2×n 크기의 직사각형을 1×2, 2×1 타일로 채우는 방법의 수를 구하는 프로그램을 작성하시오.\n",
        "\n",
        "아래 그림은 2×5 크기의 직사각형을 채운 한 가지 방법의 예이다.\n",
        "![예시](https://onlinejudgeimages.s3-ap-northeast-1.amazonaws.com/problem/11726/1.png)\n",
        "\n",
        "# 입력\n",
        "첫째 줄에 n이 주어진다. (1 ≤ n ≤ 1,000)\n",
        "\n",
        "# 출력\n",
        "첫째 줄에 2×n 크기의 직사각형을 채우는 방법의 수를 10,007로 나눈 나머지를 출력한다.\n",
        "\n",
        "# 예제 입력 1\n",
        "```\n",
        "2\n",
        "```\n",
        "\n",
        "#예제 출력 1\n",
        "```\n",
        "2\n",
        "```\n",
        "\n",
        "# 예제 입력 2\n",
        "```\n",
        "9\n",
        "```\n",
        "\n",
        "# 예제 출력 2\n",
        "```\n",
        "55\n",
        "```\n",
        "\n",
        "# 출처\n",
        "문제를 만든 사람: baekjoon\n",
        "\n",
        "# 풀이\n",
        "직사각형의 세로는 2로 고정되어 있다. 2xn 크기의 직사각형을 1x2, 2x1 타일로 채우는 방법의 수를 구하는 함수를 f(n)으로 설정한다. f(1) = 1, f(2) = 2이며, f(n)은 f(n-1)에 1x2 타일을 붙이는 경우 + f(n-2)에 2x1 타일을 2개 붙이는 경우이다. 이를 수식으로 나타내면 다음과 같다.\n",
        "\n",
        "$f(n) = f(n-1) + f(n-2)$\n",
        "\n",
        "이는 피보나치와 같다.."
      ]
    },
    {
      "cell_type": "code",
      "metadata": {
        "id": "7kkB3dIEm26F",
        "colab_type": "code",
        "colab": {
          "base_uri": "https://localhost:8080/",
          "height": 51
        },
        "outputId": "71e539f0-23d6-4a0e-9283-458a4ad58243"
      },
      "source": [
        "n = int(input())\n",
        "methods = list(range(n+1))\n",
        "# methods[1] = 1\n",
        "# methods[2] = 2\n",
        "# 이미 설정되어 있음.\n",
        "\n",
        "for i in range(3, n+1):\n",
        "  methods[i] = (methods[i-1] + methods[i-2]) % 10007\n",
        "\n",
        "print(methods[n])"
      ],
      "execution_count": null,
      "outputs": [
        {
          "output_type": "stream",
          "text": [
            "999\n",
            "6463\n"
          ],
          "name": "stdout"
        }
      ]
    },
    {
      "cell_type": "markdown",
      "metadata": {
        "id": "ZwsvMY7yuLK4",
        "colab_type": "text"
      },
      "source": [
        "# 백준 1149번: RGB거리\n",
        "https://www.acmicpc.net/problem/1149\n",
        "\n",
        "시간 제한 | 메모리 제한 | 제출 | 정답 | 맞은 사람 | 정답 비율\n",
        "---|---|---|---|---|---\n",
        "0.5 초 (추가 시간 없음) | 128 MB | 46450 | 21960 | 16431 | 47.984%\n",
        "\n",
        "# 문제\n",
        "RGB거리에는 집이 N개 있다. 거리는 선분으로 나타낼 수 있고, 1번 집부터 N번 집이 순서대로 있다.\n",
        "\n",
        "집은 빨강, 초록, 파랑 중 하나의 색으로 칠해야 한다. 각각의 집을 빨강, 초록, 파랑으로 칠하는 비용이 주어졌을 때, 아래 규칙을 만족하면서 모든 집을 칠하는 비용의 최솟값을 구해보자.\n",
        "\n",
        "- 1번 집의 색은 2번 집의 색과 같지 않아야 한다.\n",
        "- N번 집의 색은 N-1번 집의 색과 같지 않아야 한다.\n",
        "- i(2 ≤ i ≤ N-1)번 집의 색은 i-1번, i+1번 집의 색과 같지 않아야 한다.\n",
        "\n",
        "# 입력\n",
        "첫째 줄에 집의 수 N(2 ≤ N ≤ 1,000)이 주어진다. 둘째 줄부터 N개의 줄에는 각 집을 빨강, 초록, 파랑으로 칠하는 비용이 1번 집부터 한 줄에 하나씩 주어진다. 집을 칠하는 비용은 1,000보다 작거나 같은 자연수이다.\n",
        "\n",
        "# 출력\n",
        "첫째 줄에 모든 집을 칠하는 비용의 최솟값을 출력한다.\n",
        "\n",
        "# 예제 입력 1\n",
        "```py\n",
        "3\n",
        "26 40 83\n",
        "49 60 57\n",
        "13 89 99\n",
        "```\n",
        "\n",
        "# 예제 출력 1\n",
        "```py\n",
        "96\n",
        "```\n",
        "\n",
        "# 출처\n",
        "문제를 번역한 사람: baekjoon\n",
        "빠진 조건을 찾은 사람: djm03178\n",
        "문제의 오타를 찾은 사람: fail456\n",
        "데이터를 추가한 사람: rdd6584\n",
        "\n",
        "# 풀이\n",
        "n번째 집까지 칠하는 비용을 함수 f(n)로 설정합니다. 집을 칠할 때에는 빨강, 초록, 파랑으로 칠하는 비용 중 가장 작은 비용을 택합니다. 이때 f(n)의 수식은 다음과 같습니다.\n",
        "\n",
        "$f(n) = min(f_R(n), f_G(n), f_B(n))$\n",
        "\n",
        "빨강, 초록, 파랑 비용 함수에도 같은 논리를 적용할 수 있으나, 연속한 두 집에 같은 색을 칠할 수 없으므로, 빨강, 초록, 파랑으로 칠하는 비용 함수는 각각 다음과 같습니다.\n",
        "\n",
        "$f_R(n) = min(f_G(n-1), f_B(n-1))$\n",
        "\n",
        "$f_G(n) = min(f_B(n-1), f_R(n-1))$\n",
        "\n",
        "$f_B(n) = min(f_R(n-1), f_G(n-1))$\n",
        "\n",
        "단, 첫 번째 집은 이를 적용할 수 없으므로 입력 값을 그대로 사용합니다."
      ]
    },
    {
      "cell_type": "code",
      "metadata": {
        "id": "gMtDA-uxs0IP",
        "colab_type": "code",
        "colab": {
          "base_uri": "https://localhost:8080/",
          "height": 102
        },
        "outputId": "94a3c94c-17c6-4ab1-ae72-03ada173c709"
      },
      "source": [
        "n = int(input())\n",
        "methods = list(range(n))\n",
        "\n",
        "for i in range(n):\n",
        "  methods[i] = [int(cost) for cost in input().split()]\n",
        "  if i == 0: continue\n",
        "  methods[i][0] += min(methods[i-1][1], methods[i-1][2])\n",
        "  methods[i][1] += min(methods[i-1][0], methods[i-1][2])\n",
        "  methods[i][2] += min(methods[i-1][0], methods[i-1][1])\n",
        "\n",
        "print(min(methods[-1]))"
      ],
      "execution_count": null,
      "outputs": [
        {
          "output_type": "stream",
          "text": [
            "3\n",
            "26 40 83\n",
            "49 60 57\n",
            "13 89 99\n",
            "96\n"
          ],
          "name": "stdout"
        }
      ]
    },
    {
      "cell_type": "markdown",
      "metadata": {
        "id": "93IZY6qU0Hee",
        "colab_type": "text"
      },
      "source": [
        "# [백준] 2579번: 계단 오르기\n",
        "https://www.acmicpc.net/problem/2579\n",
        "시간 제한 | 메모리 제한 | 제출 | 정답 | 맞은 사람 | 정답 비율\n",
        "---|---|---|---|---|---\n",
        "1 초 | 128 MB | 62583 | 21581 | 15852 | 36.946%\n",
        "\n",
        "# 문제\n",
        "계단 오르기 게임은 계단 아래 시작점부터 계단 꼭대기에 위치한 도착점까지 가는 게임이다. <그림 1>과 같이 각각의 계단에는 일정한 점수가 쓰여 있는데 계단을 밟으면 그 계단에 쓰여 있는 점수를 얻게 된다.\n",
        "\n",
        "![그림1](https://www.acmicpc.net/upload/images/k64or2GOK1vmpEig7Ud.png)\n",
        "\n",
        "예를 들어 <그림 2>와 같이 시작점에서부터 첫 번째, 두 번째, 네 번째, 여섯 번째 계단을 밟아 도착점에 도달하면 총 점수는 10 + 20 + 25 + 20 = 75점이 된다.\n",
        "\n",
        "![그림2](https://www.acmicpc.net/upload/images/f62omMF2kQYD5rDct.png)\n",
        "\n",
        "계단 오르는 데는 다음과 같은 규칙이 있다.\n",
        "\n",
        "1. 계단은 한 번에 한 계단씩 또는 두 계단씩 오를 수 있다. 즉, 한 계단을 밟으면서 이어서 다음 계단이나, 다음 다음 계단으로 오를 수 있다.\n",
        "1. 연속된 세 개의 계단을 모두 밟아서는 안 된다. 단, 시작점은 계단에 포함되지 않는다.\n",
        "1. 마지막 도착 계단은 반드시 밟아야 한다.\n",
        "\n",
        "따라서 첫 번째 계단을 밟고 이어 두 번째 계단이나, 세 번째 계단으로 오를 수 있다. 하지만, 첫 번째 계단을 밟고 이어 네 번째 계단으로 올라가거나, 첫 번째, 두 번째, 세 번째 계단을 연속해서 모두 밟을 수는 없다.\n",
        "\n",
        "각 계단에 쓰여 있는 점수가 주어질 때 이 게임에서 얻을 수 있는 총 점수의 최댓값을 구하는 프로그램을 작성하시오.\n",
        "\n",
        "# 입력\n",
        "입력의 첫째 줄에 계단의 개수가 주어진다.\n",
        "\n",
        "둘째 줄부터 한 줄에 하나씩 제일 아래에 놓인 계단부터 순서대로 각 계단에 쓰여 있는 점수가 주어진다. 계단의 개수는 300이하의 자연수이고, 계단에 쓰여 있는 점수는 10,000이하의 자연수이다.\n",
        "\n",
        "# 출력\n",
        "첫째 줄에 계단 오르기 게임에서 얻을 수 있는 총 점수의 최댓값을 출력한다.\n",
        "\n",
        "# 예제 입력 1\n",
        "```py\n",
        "6\n",
        "10\n",
        "20\n",
        "15\n",
        "25\n",
        "10\n",
        "20\n",
        "```\n",
        "\n",
        "# 예제 출력 1\n",
        "```py\n",
        "75\n",
        "```\n",
        "\n",
        "# 출처\n",
        "[Olympiad](https://www.acmicpc.net/category/2) > [한국정보올림피아드](https://www.acmicpc.net/category/55) > [한국정보올림피아드시․도지역본선](https://www.acmicpc.net/category/57) > [지역본선 2006](https://www.acmicpc.net/category/70) > [초등부](https://www.acmicpc.net/category/detail/367) 4번\n",
        "\n",
        "# 풀이\n",
        "마지막 계단은 점프해서 도착하거나, 걸어 올라갈 수 있습니다. 둘 중 더 큰 걸 선택하면 되겠죠?\n",
        "\n",
        "$f(n) = max(f(n-1), f(n-2)) + score_n$\n",
        "\n",
        "그런데, 연속된 세 개의 계단을 모두 밟아서는 안 된다. 즉, 두 번 걸어올 수 없다는 조건이 있습니다. (규칙 2) 규칙 2를 적용한 식은 다음과 같습니다. \n",
        "\n",
        "$f(n) = max(f(n-3) + score_{n-1}, f(n-2)) + score_n$\n",
        "\n",
        "단, f(0), f(1), f(2)에는 이를 적용할 수 없기 때문에 $f(0) = 0, f(1) = score_1, f(2) = f(1) + score_2$로 설정합니다."
      ]
    },
    {
      "cell_type": "code",
      "metadata": {
        "id": "p9ktuGbXxd2b",
        "colab_type": "code",
        "colab": {
          "base_uri": "https://localhost:8080/",
          "height": 153
        },
        "outputId": "befb3c03-d78a-4470-fd79-2832bd5ef234"
      },
      "source": [
        "n = int(input())\n",
        "scores = list(range(n + 1))\n",
        "\n",
        "for i in range(1, n + 1):\n",
        "  scores[i] = int(input())\n",
        "\n",
        "acc_scores = scores.copy()\n",
        "for i in range(1, n + 1):\n",
        "  if i < 3:\n",
        "    acc_scores[i] += scores[i-1]\n",
        "    continue\n",
        "\n",
        "  acc_scores[i] += max(acc_scores[i-3] + scores[i-1], acc_scores[i-2])\n",
        "\n",
        "print(acc_scores[-1])"
      ],
      "execution_count": null,
      "outputs": [
        {
          "output_type": "stream",
          "text": [
            "6\n",
            "10\n",
            "20\n",
            "15\n",
            "25\n",
            "10\n",
            "20\n",
            "[0, 10, 30, 35, 55, 65, 75]\n"
          ],
          "name": "stdout"
        }
      ]
    },
    {
      "cell_type": "markdown",
      "metadata": {
        "id": "7RKCK-z8EEVu",
        "colab_type": "text"
      },
      "source": [
        "# [백준] 2193번: 이친수\n",
        "시간 제한 | 메모리 제한 | 제출 | 정답 | 맞은 사람 | 정답 비율\n",
        "---|---|---|---|---|---\n",
        "2 초 | 128 MB | 50581 | 19878 | 14794 | 37.510%\n",
        "\n",
        "# 문제\n",
        "0과 1로만 이루어진 수를 이진수라 한다. 이러한 이진수 중 특별한 성질을 갖는 것들이 있는데, 이들을 이친수(pinary number)라 한다. 이친수는 다음의 성질을 만족한다.\n",
        "\n",
        "1. 이친수는 0으로 시작하지 않는다.\n",
        "1. 이친수에서는 1이 두 번 연속으로 나타나지 않는다. 즉, 11을 부분 문자열로 갖지 않는다.\n",
        "\n",
        "예를 들면 1, 10, 100, 101, 1000, 1001 등이 이친수가 된다. 하지만 0010101이나 101101은 각각 1, 2번 규칙에 위배되므로 이친수가 아니다.\n",
        "\n",
        "N(1 ≤ N ≤ 90)이 주어졌을 때, N자리 이친수의 개수를 구하는 프로그램을 작성하시오.\n",
        "\n",
        "# 입력\n",
        "첫째 줄에 N이 주어진다.\n",
        "\n",
        "# 출력\n",
        "첫째 줄에 N자리 이친수의 개수를 출력한다.\n",
        "\n",
        "# 예제 입력 1\n",
        "3\n",
        "\n",
        "# 예제 출력 1\n",
        "2\n",
        "\n",
        "# 출처\n",
        "문제의 오타를 찾은 사람: ehay\n",
        "\n",
        "데이터를 추가한 사람: hg5312\n",
        "\n",
        "# 풀이\n",
        "n=1일 때 1 => 1\n",
        "\n",
        "n=2일 때 10 => 1\n",
        "\n",
        "n=3일 때 100, 101 => 2\n",
        "\n",
        "n=4일 때 1000, 1001, 1010 => 3\n",
        "\n",
        "...\n",
        "\n",
        "피보나치다.."
      ]
    },
    {
      "cell_type": "code",
      "metadata": {
        "id": "tndXRx_hEdCQ",
        "colab_type": "code",
        "colab": {
          "base_uri": "https://localhost:8080/",
          "height": 51
        },
        "outputId": "cf0386e5-1464-4a73-ac8f-5cb22a52b613"
      },
      "source": [
        "num = int(input())\n",
        "answer = list(range(num))\n",
        "answer[0] = 1\n",
        "\n",
        "for i in range(2, num):\n",
        "  answer[i] = answer[i-2] + answer[i-1]\n",
        "\n",
        "print(answer[-1])"
      ],
      "execution_count": null,
      "outputs": [
        {
          "output_type": "stream",
          "text": [
            "5\n",
            "5\n"
          ],
          "name": "stdout"
        }
      ]
    },
    {
      "cell_type": "markdown",
      "metadata": {
        "id": "yYFFhFdpHc-k",
        "colab_type": "text"
      },
      "source": [
        "# [백준] 2156번: 포도주 시식\n",
        "시간 제한|메모리 제한|제출|정답|맞은 사람|정답 비율\n",
        "---|---|---|---|---|---\n",
        "2 초|128 MB|55692|19971|14293|34.201%\n",
        "\n",
        "# 문제\n",
        "효주는 포도주 시식회에 갔다. 그 곳에 갔더니, 테이블 위에 다양한 포도주가 들어있는 포도주 잔이 일렬로 놓여 있었다. 효주는 포도주 시식을 하려고 하는데, 여기에는 다음과 같은 두 가지 규칙이 있다.\n",
        "\n",
        "1. 포도주 잔을 선택하면 그 잔에 들어있는 포도주는 모두 마셔야 하고, 마신 후에는 원래 위치에 다시 놓아야 한다.\n",
        "1. 연속으로 놓여 있는 3잔을 모두 마실 수는 없다.\n",
        "\n",
        "효주는 될 수 있는 대로 많은 양의 포도주를 맛보기 위해서 어떤 포도주 잔을 선택해야 할지 고민하고 있다. 1부터 n까지의 번호가 붙어 있는 n개의 포도주 잔이 순서대로 테이블 위에 놓여 있고, 각 포도주 잔에 들어있는 포도주의 양이 주어졌을 때, 효주를 도와 가장 많은 양의 포도주를 마실 수 있도록 하는 프로그램을 작성하시오. \n",
        "\n",
        "예를 들어 6개의 포도주 잔이 있고, 각각의 잔에 순서대로 6, 10, 13, 9, 8, 1 만큼의 포도주가 들어 있을 때, 첫 번째, 두 번째, 네 번째, 다섯 번째 포도주 잔을 선택하면 총 포도주 양이 33으로 최대로 마실 수 있다.\n",
        "\n",
        "# 입력\n",
        "첫째 줄에 포도주 잔의 개수 n이 주어진다. (1≤n≤10,000) 둘째 줄부터 n+1번째 줄까지 포도주 잔에 들어있는 포도주의 양이 순서대로 주어진다. 포도주의 양은 1,000 이하의 음이 아닌 정수이다.\n",
        "\n",
        "# 출력\n",
        "첫째 줄에 최대로 마실 수 있는 포도주의 양을 출력한다.\n",
        "\n",
        "# 예제 입력 1\n",
        "```\n",
        "6\n",
        "6\n",
        "10\n",
        "13\n",
        "9\n",
        "8\n",
        "1\n",
        "```\n",
        "\n",
        "# 예제 출력 1\n",
        "```\n",
        "33\n",
        "```\n",
        "\n",
        "# 출처\n",
        "빠진 조건을 찾은 사람: keith\n",
        "\n",
        "# 풀이\n",
        "계단 오르기 문제와 조건이 비슷하지만, 다른 점이 하나 있습니다. 계단 오르기는 반드시 마지막 계단을 밟아야하지만, 위 문제의 경우 해당 제약 조건이 없습니다. 따라서 점화식은 다음과 같이 나타납니다.\n",
        "\n",
        "$f\\prime(n) = max(f(n-3) + wine_{n-1}, f(n-2)) + wine_n$\n",
        "\n",
        "$f(n) = max(f(n-1), f\\prime(n))$\n",
        "\n",
        "단, f(0), f(1), f(2)에는 이를 적용할 수 없기 때문에 $f(0) = 0, f(1) = wine_1, f(2) = f(1) + wine_2$로 설정합니다.\n",
        "\n",
        "또한 n이 1 또는 2일 때에 대한 예외처리가 필요합니다."
      ]
    },
    {
      "cell_type": "code",
      "metadata": {
        "id": "DwnRgJCGGF7N",
        "colab_type": "code",
        "colab": {
          "base_uri": "https://localhost:8080/",
          "height": 102
        },
        "outputId": "c1c7504d-dbd0-4224-cc3c-60b717001a0d"
      },
      "source": [
        "n = int(input())\n",
        "wines = [0] + [int(input()) for _ in range(n)]\n",
        "drinks = list(range(n+1))\n",
        "\n",
        "for i in range(1, n+1):\n",
        "  if i < 3:\n",
        "    drinks[i] = drinks[i-1] + wines[i]\n",
        "    continue\n",
        "\n",
        "  drinks[i] = max(drinks[i-3]+wines[i-1], drinks[i-2]) + wines[i]\n",
        "  drinks[i] = max(drinks[i-1], drinks[i])\n",
        "\n",
        "print(drinks[-1])"
      ],
      "execution_count": null,
      "outputs": [
        {
          "output_type": "stream",
          "text": [
            "3\n",
            "6\n",
            "10\n",
            "13\n",
            "23\n"
          ],
          "name": "stdout"
        }
      ]
    },
    {
      "cell_type": "markdown",
      "metadata": {
        "id": "yeUMCe7HiCQc",
        "colab_type": "text"
      },
      "source": [
        "# [백준] 2748번: 피보나치 수 2\n",
        "https://www.acmicpc.net/problem/2748\n",
        "\n",
        "시간 제한 | 메모리 제한 | 제출 | 정답 | 맞은 사람 | 정답 비율\n",
        "---|---|---|---|---|---\n",
        "1 초 | 128 MB | 42874 | 16399 | 13857 | 38.658%\n",
        "\n",
        "# 문제\n",
        "피보나치 수는 0과 1로 시작한다. 0번째 피보나치 수는 0이고, 1번째 피보나치 수는 1이다. 그 다음 2번째 부터는 바로 앞 두 피보나치 수의 합이 된다.\n",
        "\n",
        "이를 식으로 써보면 Fn = Fn-1 + Fn-2 (n>=2)가 된다.\n",
        "\n",
        "n=17일때 까지 피보나치 수를 써보면 다음과 같다.\n",
        "\n",
        "```\n",
        "0, 1, 1, 2, 3, 5, 8, 13, 21, 34, 55, 89, 144, 233, 377, 610, 987, 1597\n",
        "```\n",
        "\n",
        "n이 주어졌을 때, n번째 피보나치 수를 구하는 프로그램을 작성하시오.\n",
        "\n",
        "# 입력\n",
        "첫째 줄에 n이 주어진다. n은 90보다 작거나 같은 자연수이다.\n",
        "\n",
        "# 출력\n",
        "첫째 줄에 n번째 피보나치 수를 출력한다.\n",
        "\n",
        "# 예제 입력 1\n",
        "```\n",
        "10\n",
        "```\n",
        "\n",
        "# 예제 출력 1\n",
        "```\n",
        "55\n",
        "```\n",
        "\n",
        "# 풀이\n",
        "간단한 DP 문제입니다.\n",
        "\n",
        "$f(n) = f(n-1) + f(n-2)$\n"
      ]
    },
    {
      "cell_type": "code",
      "metadata": {
        "id": "1y2zehlVIGkb",
        "colab_type": "code",
        "colab": {
          "base_uri": "https://localhost:8080/",
          "height": 51
        },
        "outputId": "9dc10a0a-003c-4873-df64-4100591e45fd"
      },
      "source": [
        "n = int(input())\n",
        "fibonacci = [0] * 91\n",
        "fibonacci[1:3] = [1, 1]\n",
        "for i in range(3, n+1):\n",
        "  fibonacci[i] = fibonacci[i-2] + fibonacci[i-1]\n",
        "\n",
        "print(fibonacci[n])"
      ],
      "execution_count": 1,
      "outputs": [
        {
          "output_type": "stream",
          "text": [
            "90\n",
            "2880067194370816120\n"
          ],
          "name": "stdout"
        }
      ]
    },
    {
      "cell_type": "markdown",
      "metadata": {
        "id": "e4oIEaL6i0qg",
        "colab_type": "text"
      },
      "source": [
        "# [백준] 1904번: 01타일 \n",
        "https://www.acmicpc.net/problem/1904\n",
        "\n",
        "시간 제한 | 메모리 제한 | 제출 | 정답 | 맞은 사람 | 정답 비율\n",
        "---|---|---|---|---|---\n",
        "2 초 | 256 MB | 23894 | 8294 | 6843 | 36.959%\n",
        "\n",
        "# 문제\n",
        "지원이에게 2진 수열을 가르쳐 주기 위해, 지원이 아버지는 그에게 타일들을 선물해주셨다. 그리고 이 각각의 타일들은 0 또는 1이 쓰여 있는 낱장의 타일들이다.\n",
        "\n",
        "어느 날 짓궂은 동주가 지원이의 공부를 방해하기 위해 0이 쓰여진 낱장의 타일들을 붙여서 한 쌍으로 이루어진 00 타일들을 만들었다. 결국 현재 1 하나만으로 이루어진 타일 또는 0타일을 두 개 붙인 한 쌍의 00타일들만이 남게 되었다.\n",
        "\n",
        "그러므로 지원이는 타일로 더 이상 크기가 N인 모든 2진 수열을 만들 수 없게 되었다. 예를 들어, N=1일 때 1만 만들 수 있고, N=2일 때는 00, 11을 만들 수 있다. (01, 10은 만들 수 없게 되었다.) 또한 N=4일 때는 0011, 0000, 1001, 1100, 1111 등 총 5개의 2진 수열을 만들 수 있다.\n",
        "\n",
        "우리의 목표는 N이 주어졌을 때 지원이가 만들 수 있는 모든 가짓수를 세는 것이다. 단 타일들은 무한히 많은 것으로 가정하자.\n",
        "\n",
        "# 입력\n",
        "첫 번째 줄에 자연수 N이 주어진다.(N ≤ 1,000,000)\n",
        "\n",
        "# 출력\n",
        "첫 번째 줄에 지원이가 만들 수 있는 길이가 N인 모든 2진 수열의 개수를 15746으로 나눈 나머지를 출력한다.\n",
        "\n",
        "# 예제 입력 1\n",
        "```\n",
        "4\n",
        "```\n",
        "\n",
        "# 예제 출력 1\n",
        "```\n",
        "5\n",
        "```\n",
        "\n",
        "# 출처\n",
        "- 문제의 오타를 찾은 사람: mwy3055\n",
        "- 데이터를 추가한 사람: qortmd7777\n",
        "\n",
        "# 풀이\n",
        "- N = 1이면 1 (= 1개)\n",
        "- N = 2이면 00, 11 (= 2개)\n",
        "- N = 3이면 001, 100, 111 (= 3개)\n",
        "- N = 4이면 0000, 0011, 1001, 1100, 1111 (= 5개)\n",
        "\n",
        "피보나치 수열입니다. 공식을 적용할 수 없는 1, 2의 경우와 15746으로 나눈 나머지를 출력하는 것에 유의합니다."
      ]
    },
    {
      "cell_type": "code",
      "metadata": {
        "id": "2TTFiL0VjQVx",
        "colab_type": "code",
        "colab": {
          "base_uri": "https://localhost:8080/",
          "height": 51
        },
        "outputId": "4c3338c5-5ee5-459f-c8e8-6b4241b0ba7d"
      },
      "source": [
        "n = int(input())\n",
        "fibonacci = [1, 2]\n",
        "for i in range(2, n):\n",
        "  fibonacci.append((fibonacci[0] + fibonacci[1]) % 15746)\n",
        "  fibonacci.pop(0)\n",
        "\n",
        "if n < 2:\n",
        "  print(fibonacci[n-1])\n",
        "else:\n",
        "  print(fibonacci[1])"
      ],
      "execution_count": 27,
      "outputs": [
        {
          "output_type": "stream",
          "text": [
            "4\n",
            "5\n"
          ],
          "name": "stdout"
        }
      ]
    },
    {
      "cell_type": "markdown",
      "metadata": {
        "id": "tMptbSY2nz5i",
        "colab_type": "text"
      },
      "source": [
        "# [백준] 9461번: 파도반 수열\n",
        "https://www.acmicpc.net/problem/9461\n",
        "\n",
        "시간 제한|메모리 제한|제출|정답|맞은 사람|정답 비율\n",
        "---|---|---|---|---|---\n",
        "1 초|128 MB|33715|13780|11427|39.622%\n",
        "\n",
        "# 문제\n",
        "![](https://www.acmicpc.net/upload/images/pandovan.png)\n",
        "\n",
        "오른쪽 그림과 같이 삼각형이 나선 모양으로 놓여져 있다. 첫 삼각형은 정삼각형으로 변의 길이는 1이다. 그 다음에는 다음과 같은 과정으로 정삼각형을 계속 추가한다. 나선에서 가장 긴 변의 길이를 k라 했을 때, 그 변에 길이가 k인 정삼각형을 추가한다.\n",
        "\n",
        "파도반 수열 P(N)은 나선에 있는 정삼각형의 변의 길이이다. P(1)부터 P(10)까지 첫 10개 숫자는 1, 1, 1, 2, 2, 3, 4, 5, 7, 9이다.\n",
        "\n",
        "N이 주어졌을 때, P(N)을 구하는 프로그램을 작성하시오.\n",
        "\n",
        "# 입력\n",
        "첫째 줄에 테스트 케이스의 개수 T가 주어진다. 각 테스트 케이스는 한 줄로 이루어져 있고, N이 주어진다. (1 ≤ N ≤ 100)\n",
        "\n",
        "# 출력\n",
        "각 테스트 케이스마다 P(N)을 출력한다.\n",
        "\n",
        "# 예제 입력 1\n",
        "```\n",
        "2\n",
        "6\n",
        "12\n",
        "```\n",
        "\n",
        "# 예제 출력 1\n",
        "```\n",
        "3\n",
        "16\n",
        "```\n",
        "\n",
        "# 출처\n",
        "ICPC > Regionals > Asia Pacific > Korea > Asia Regional - Daejeon 2013 G번\n",
        "\n",
        "- 문제를 번역한 사람: baekjoon\n",
        "- 문제의 오타를 찾은 사람: eric00513\n",
        "\n",
        "# 풀이\n",
        "$f(1) = 1$\n",
        "\n",
        "$f(2) = f(1) = 1$\n",
        "\n",
        "$f(3) = f(2) = 1$\n",
        "\n",
        "$f(4) = f(1) + f(3) = 2$\n",
        "\n",
        "$f(5) = f(4) = 2$\n",
        "\n",
        "음 규칙이 잘 보이지 않습니다.\n",
        "\n",
        "$f(6) = f(5) + f(1) = 3$\n",
        "\n",
        "$f(7) = f(6) + f(2) = 4$\n",
        "\n",
        "$f(8) = f(7) + f(3) = 5$\n",
        "\n",
        "$f(9) = f(8) + f(4) = 7$\n",
        "\n",
        "$f(10) = f(9) + f(5) = 9$\n",
        "\n",
        "$f(11) = f(10) + f(6) = 12$\n",
        "\n",
        "$f(12) = f(11) + f(7) = 16$\n",
        "\n",
        "$f(13) = f(12) + f(8) = 21$\n",
        "\n",
        "그럴리가 없습니다.\n",
        "\n",
        "$f(n) = f(n-1) + f(n-5)$\n"
      ]
    },
    {
      "cell_type": "code",
      "metadata": {
        "id": "gNHPZ2R7kbYD",
        "colab_type": "code",
        "colab": {
          "base_uri": "https://localhost:8080/",
          "height": 102
        },
        "outputId": "eb477401-ef27-40b7-827d-160e736cd8ae"
      },
      "source": [
        "tn = int(input())\n",
        "for _ in range(tn):\n",
        "  n = int(input())\n",
        "  f = [1, 1, 1, 2, 2] + [0] * (n - 5 if n >= 5 else 0)\n",
        "\n",
        "  for i in range(5, n):\n",
        "    f[i] = f[i-1] + f[i-5]\n",
        "\n",
        "  print(f[n-1])"
      ],
      "execution_count": 35,
      "outputs": [
        {
          "output_type": "stream",
          "text": [
            "2\n",
            "6\n",
            "3\n",
            "13\n",
            "21\n"
          ],
          "name": "stdout"
        }
      ]
    },
    {
      "cell_type": "markdown",
      "metadata": {
        "id": "-FLjXAmPtJWu",
        "colab_type": "text"
      },
      "source": [
        ""
      ]
    },
    {
      "cell_type": "markdown",
      "metadata": {
        "id": "_Zzwl66Xu_Lk",
        "colab_type": "text"
      },
      "source": [
        "# [백준] 10844번: 쉬운 계단 수\n",
        "https://www.acmicpc.net/problem/10844\n",
        "\n",
        "시간 제한|메모리 제한|제출|정답|맞은 사람|정답 비율\n",
        "---|---|---|---|---|---\n",
        "1 초|256 MB|62107|18694|13449|28.320%\n",
        "\n",
        "# 문제\n",
        "45656이란 수를 보자.\n",
        "\n",
        "이 수는 인접한 모든 자리수의 차이가 1이 난다. 이런 수를 계단 수라고 한다.\n",
        "\n",
        "세준이는 수의 길이가 N인 계단 수가 몇 개 있는지 궁금해졌다.\n",
        "\n",
        "N이 주어질 때, 길이가 N인 계단 수가 총 몇 개 있는지 구하는 프로그램을 작성하시오. (0으로 시작하는 수는 없다.)\n",
        "\n",
        "# 입력\n",
        "첫째 줄에 N이 주어진다. N은 1보다 크거나 같고, 100보다 작거나 같은 자연수이다.\n",
        "\n",
        "# 출력\n",
        "첫째 줄에 정답을 1,000,000,000으로 나눈 나머지를 출력한다.\n",
        "\n",
        "# 예제 입력 1\n",
        "```\n",
        "1\n",
        "```\n",
        "\n",
        "# 예제 출력 1\n",
        "```\n",
        "9\n",
        "```\n",
        "\n",
        "# 예제 입력 2\n",
        "```\n",
        "2\n",
        "```\n",
        "\n",
        "# 예제 출력 2\n",
        "```\n",
        "17\n",
        "```\n",
        "\n",
        "# 출처\n",
        "문제를 만든 사람: baekjoon\n",
        "\n",
        "# 풀이\n",
        "1. f(1) = 9\n",
        "1. f(2) = 17 = 2 * f(1) - 1 (9의 경우)\n",
        "1. f(3) = 32 = 2 * f(2) - 2 (10, 89의 경우)\n",
        "1. f(4) = 61 = 2 * f(3) - 3 (210, 789, 989의 경우)\n",
        "1. f(5) = 116 = 2 * f(4) - 6 (1010, 3210, 1210, 6789, 8789, 8989의 경우)"
      ]
    },
    {
      "cell_type": "code",
      "metadata": {
        "id": "_vSg0VnPnfpM",
        "colab_type": "code",
        "colab": {
          "base_uri": "https://localhost:8080/",
          "height": 232
        },
        "outputId": "87c69e60-e6bc-44c6-8998-e22b667a75ce"
      },
      "source": [
        "stair = [0, 9]\n",
        "n = 30 # int(input())\n",
        "answer = 9 if n == 1 else 17\n",
        "\n",
        "for idx in range(2, n):\n",
        "  new_stair = []; cnt = 0\n",
        "  for s in stair:\n",
        "    if s != 0:\n",
        "      cnt += 1\n",
        "      new_stair.append(s - 1)\n",
        "    if s != 9:\n",
        "      cnt += 1\n",
        "      new_stair.append(s + 1)\n",
        "  stair = new_stair\n",
        "  del new_stair\n",
        "\n",
        "  answer = 2 * answer - cnt\n",
        "\n",
        "print(answer)"
      ],
      "execution_count": 4,
      "outputs": [
        {
          "output_type": "error",
          "ename": "KeyboardInterrupt",
          "evalue": "ignored",
          "traceback": [
            "\u001b[0;31m---------------------------------------------------------------------------\u001b[0m",
            "\u001b[0;31mKeyboardInterrupt\u001b[0m                         Traceback (most recent call last)",
            "\u001b[0;32m<ipython-input-4-0c3f039afc6f>\u001b[0m in \u001b[0;36m<module>\u001b[0;34m()\u001b[0m\n\u001b[1;32m      8\u001b[0m     \u001b[0;32mif\u001b[0m \u001b[0ms\u001b[0m \u001b[0;34m!=\u001b[0m \u001b[0;36m0\u001b[0m\u001b[0;34m:\u001b[0m\u001b[0;34m\u001b[0m\u001b[0;34m\u001b[0m\u001b[0m\n\u001b[1;32m      9\u001b[0m       \u001b[0mcnt\u001b[0m \u001b[0;34m+=\u001b[0m \u001b[0;36m1\u001b[0m\u001b[0;34m\u001b[0m\u001b[0;34m\u001b[0m\u001b[0m\n\u001b[0;32m---> 10\u001b[0;31m       \u001b[0mnew_stair\u001b[0m\u001b[0;34m.\u001b[0m\u001b[0mappend\u001b[0m\u001b[0;34m(\u001b[0m\u001b[0ms\u001b[0m \u001b[0;34m-\u001b[0m \u001b[0;36m1\u001b[0m\u001b[0;34m)\u001b[0m\u001b[0;34m\u001b[0m\u001b[0;34m\u001b[0m\u001b[0m\n\u001b[0m\u001b[1;32m     11\u001b[0m     \u001b[0;32mif\u001b[0m \u001b[0ms\u001b[0m \u001b[0;34m!=\u001b[0m \u001b[0;36m9\u001b[0m\u001b[0;34m:\u001b[0m\u001b[0;34m\u001b[0m\u001b[0;34m\u001b[0m\u001b[0m\n\u001b[1;32m     12\u001b[0m       \u001b[0mcnt\u001b[0m \u001b[0;34m+=\u001b[0m \u001b[0;36m1\u001b[0m\u001b[0;34m\u001b[0m\u001b[0;34m\u001b[0m\u001b[0m\n",
            "\u001b[0;31mKeyboardInterrupt\u001b[0m: "
          ]
        }
      ]
    },
    {
      "cell_type": "code",
      "metadata": {
        "id": "TBjusrkOyxED",
        "colab_type": "code",
        "colab": {
          "base_uri": "https://localhost:8080/",
          "height": 34
        },
        "outputId": "c6dcaff6-d656-4866-ce51-88989f4aaa4f"
      },
      "source": [
        "print(424 * 2 - 35)"
      ],
      "execution_count": 75,
      "outputs": [
        {
          "output_type": "stream",
          "text": [
            "813\n"
          ],
          "name": "stdout"
        }
      ]
    },
    {
      "cell_type": "code",
      "metadata": {
        "id": "uiKUJkHHOpK1",
        "colab_type": "code",
        "colab": {}
      },
      "source": [
        ""
      ],
      "execution_count": null,
      "outputs": []
    }
  ]
}