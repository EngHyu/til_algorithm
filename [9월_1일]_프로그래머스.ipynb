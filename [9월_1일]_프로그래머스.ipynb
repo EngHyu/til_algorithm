{
  "nbformat": 4,
  "nbformat_minor": 0,
  "metadata": {
    "colab": {
      "name": "[9월 1일] 프로그래머스_김동호.ipynb.ipynb",
      "provenance": [],
      "collapsed_sections": [],
      "authorship_tag": "ABX9TyM55CFs2tlJr37vPGaJ/Bjb",
      "include_colab_link": true
    },
    "kernelspec": {
      "name": "python3",
      "display_name": "Python 3"
    }
  },
  "cells": [
    {
      "cell_type": "markdown",
      "metadata": {
        "id": "view-in-github",
        "colab_type": "text"
      },
      "source": [
        "<a href=\"https://colab.research.google.com/github/EngHyu/til_algorithm/blob/master/%5B9%EC%9B%94_1%EC%9D%BC%5D_%ED%94%84%EB%A1%9C%EA%B7%B8%EB%9E%98%EB%A8%B8%EC%8A%A4.ipynb\" target=\"_parent\"><img src=\"https://colab.research.google.com/assets/colab-badge.svg\" alt=\"Open In Colab\"/></a>"
      ]
    },
    {
      "cell_type": "markdown",
      "metadata": {
        "id": "H6UUZuZKAIgO",
        "colab_type": "text"
      },
      "source": [
        "# [프로그래머스] 가장 큰 수 [정렬]\n",
        "0 또는 양의 정수가 주어졌을 때, 정수를 이어 붙여 만들 수 있는 가장 큰 수를 알아내 주세요.\n",
        "\n",
        "예를 들어, 주어진 정수가 [6, 10, 2]라면 [6102, 6210, 1062, 1026, 2610, 2106]를 만들 수 있고, 이중 가장 큰 수는 6210입니다.\n",
        "\n",
        "0 또는 양의 정수가 담긴 배열 numbers가 매개변수로 주어질 때, 순서를 재배치하여 만들 수 있는 가장 큰 수를 문자열로 바꾸어 return 하도록 solution 함수를 작성해주세요.\n",
        "\n",
        "# 제한 사항\n",
        "- numbers의 길이는 1 이상 100,000 이하입니다.\n",
        "- numbers의 원소는 0 이상 1,000 이하입니다.\n",
        "- 정답이 너무 클 수 있으니 문자열로 바꾸어 return 합니다.\n",
        "\n",
        "# 입출력 예\n",
        "numbers|return\n",
        "---|---\n",
        "[6, 10, 2]|\"6210\"\n",
        "[3, 30, 34, 5, 9]|\"9534330\"\n",
        "\n",
        "# 풀이\n",
        "문제의 카테고리가 정렬이므로, 정렬만 사용하여 문제를 해결해봅시다. 먼저, 10보다는 6이 유리한 것에서 힌트를 얻어, 맨 앞 자리 수를 기준으로 정렬해봅시다.\n",
        "\n",
        "```py\n",
        "numbers = list(map(str, numbers))\n",
        "numbers.sort(key=lambda v: v[-1], reverse=True)\n",
        "```\n",
        "\n",
        "```\n",
        "테스트 1\n",
        "입력값 〉\t[6, 10, 2]\n",
        "출력 〉\t['6', '2', '10']\n",
        "\n",
        "테스트 2\n",
        "입력값 〉\t[3, 30, 34, 5, 9]\n",
        "출력 〉\t['9', '5', '3', '30', '34']\n",
        "```\n",
        "\n",
        "6210은 완성할 수 있지만, 9534330을 완성하기에는 추가 작업이 필요해보입니다. 3, 30, 34는 모두 앞 자리 수가 같고, 주어진 순서대로 정렬되어 있는 것을 볼 수 있습니다. 문제는 3, 30, 34가 합쳐지는 방식입니다.\n",
        "\n",
        "3과 30은 330과 같이 합쳐졌을 때 303보다 값이 커집니다. 3으로 시작하는 두 자릿수 중 33보다 작은 수는 3의 뒤에 합쳐지는 것이 좋고, 33보다 큰 수는 앞으로 합쳐져야 합니다. 이를 다시 일반화 하면, 다음과 같이 정렬할 수 있습니다.\n",
        "\n",
        "```py\n",
        "max_len = len(max(numbers, key=len))\n",
        "numbers.sort(\n",
        "    key=lambda v: (v * max_len)[:max_len],\n",
        "    reverse=True\n",
        ")\n",
        "```\n",
        "\n",
        "이렇게 정렬하면 주어진 테스트는 통과할 수 있습니다. 하지만 다음과 같은 경우는 어떨까요?\n",
        "\n",
        "numbers|return\n",
        "---|---\n",
        "[53, 535]|\"53553\"\n",
        "\n",
        "```\n",
        "테스트 3\n",
        "입력값 〉\t[53, 535]\n",
        "출력 〉\t['53', '535']\n",
        "```\n",
        "\n",
        "이대로 합쳐질 경우, 53535가 되어 가장 큰 수라는 조건을 만족시키지 못합니다. 이유는 위 정렬 방법을 사용하면 53과 535는 같은 수로 취급되고, 입력된 순서를 지키기 때문입니다.\n",
        "\n",
        "53과 535는 어떤 규칙으로 정렬해야 할까요? 단순히 작은 수를 뒤로 보내면 될까요? 53, 535는 합쳤을 때 53553이 되지만, 35, 353은 35353이 되야 합니다. 1의 자리가 큰 순서대로 정렬하면, 이를 만족할 수 있습니다.\n",
        "\n",
        "```\n",
        "numbers = list(map(str, numbers))\n",
        "max_len = len(max(numbers, key=len))\n",
        "numbers.sort(key=lambda v: v[-1], reverse=True)\n",
        "numbers.sort(\n",
        "    key=lambda v: (v * max_len)[:max_len],\n",
        "    reverse=True\n",
        ")\n",
        "```\n",
        "\n",
        "이렇게 풀면... 테스트 11만 통과하지 못합니다. 원인은... 억울합니다. 이거 입출력 예 추가해야 합니다...\n",
        "\n",
        "numbers|return\n",
        "---|---\n",
        "[0, 0, 0]|\"0\"\n",
        "\n",
        "any를 사용하면, 배열의 값이 모두 0이면 False, 하나라도 0이 아니면 True를 반환합니다. 다음 코드를 함수 제일 앞에 추가하여 0인 경우를 걸러냅니다.\n",
        "\n",
        "```py\n",
        "if not any(numbers):\n",
        "    return '0'\n",
        "```"
      ]
    },
    {
      "cell_type": "code",
      "metadata": {
        "id": "dkD-A3f2AIBj",
        "colab_type": "code",
        "colab": {}
      },
      "source": [
        "def solution(numbers):\n",
        "    if not any(numbers):\n",
        "        return '0'\n",
        "    \n",
        "    numbers = list(map(str, numbers))\n",
        "    max_len = len(max(numbers, key=len))\n",
        "    numbers.sort(key=lambda v: v[-1], reverse=True)\n",
        "    numbers.sort(\n",
        "        key=lambda v: (v * max_len)[:max_len],\n",
        "        reverse=True\n",
        "    )\n",
        "    return ''.join(numbers)"
      ],
      "execution_count": 1,
      "outputs": []
    },
    {
      "cell_type": "code",
      "metadata": {
        "id": "7YnCi9PwFyuR",
        "colab_type": "code",
        "colab": {
          "base_uri": "https://localhost:8080/",
          "height": 102
        },
        "outputId": "478b65c0-a8e0-4e9a-ff9d-0931a3d2932f"
      },
      "source": [
        "numbers = [[6, 10, 2], [3, 30, 34, 5, 9], [53, 535], [35, 353], [0, 0, 0]]\n",
        "for number in numbers:\n",
        "  print(solution(number))"
      ],
      "execution_count": 2,
      "outputs": [
        {
          "output_type": "stream",
          "text": [
            "6210\n",
            "9534330\n",
            "53553\n",
            "35353\n",
            "0\n"
          ],
          "name": "stdout"
        }
      ]
    },
    {
      "cell_type": "markdown",
      "metadata": {
        "id": "01QzBdINHFDe",
        "colab_type": "text"
      },
      "source": [
        "# [프로그래머스] 소수 찾기 [완전탐색]\n",
        "한자리 숫자가 적힌 종이 조각이 흩어져있습니다. 흩어진 종이 조각을 붙여 소수를 몇 개 만들 수 있는지 알아내려 합니다.\n",
        "\n",
        "각 종이 조각에 적힌 숫자가 적힌 문자열 numbers가 주어졌을 때, 종이 조각으로 만들 수 있는 소수가 몇 개인지 return 하도록 solution 함수를 완성해주세요.\n",
        "\n",
        "# 제한사항\n",
        "- numbers는 길이 1 이상 7 이하인 문자열입니다.\n",
        "- numbers는 0~9까지 숫자만으로 이루어져 있습니다.\n",
        "- \"013\"은 0, 1, 3 숫자가 적힌 종이 조각이 흩어져있다는 의미입니다.\n",
        "\n",
        "# 입출력 예\n",
        "numbers|return\n",
        "---|---\n",
        "\"17\"|3\n",
        "\"011\"|2\n",
        "\n",
        "# 입출력 예 설명\n",
        "## 예제 #1\n",
        "[1, 7]으로는 소수 [7, 17, 71]를 만들 수 있습니다.\n",
        "\n",
        "## 예제 #2\n",
        "[0, 1, 1]으로는 소수 [11, 101]를 만들 수 있습니다.\n",
        "- 11과 011은 같은 숫자로 취급합니다.\n",
        "\n",
        "# 풀이\n",
        "순열을 생성하여 해당 수가 소수인지 판별해야 합니다. 순열을 생성하기 위한 방법으로는 `itertools`의 `permutations`를 사용하는 방법이 있습니다. 반환 형태가 iterator이므로 `list()` 함수로 감싸 사용합니다.\n",
        "\n",
        "```py\n",
        "# nPr = permutations(n, r)\n",
        "list(permutation(\"1234567\", 2))\n",
        "# [('1', '2'), ('1', '3'), ..., ('7', '6')]\n",
        "```\n",
        "\n",
        "에라토스테네스 체를 사용하여 소수 여부를 판단합니다. 에라토스테네스 체란 n=2부터 시작하여 일정 범위까지 자신을 제외한 n의 배수를 삭제하면, 남아있는 수는 모두 소수가 된다는 법칙입니다.\n"
      ]
    },
    {
      "cell_type": "code",
      "metadata": {
        "id": "XKnPUZ71IyzG",
        "colab_type": "code",
        "colab": {}
      },
      "source": [
        "from itertools import permutations\n",
        "def solution(n):\n",
        "    # 가능한 수 집합\n",
        "    a = set()\n",
        "    # 순열을 통해 생성한 수 집합과 합집합\n",
        "    for i in range(len(n)):\n",
        "        a |= set(map(int, map(\"\".join, permutations(list(n), i + 1))))\n",
        "    # 0, 1은 소수에서 제외\n",
        "    a -= set(range(0, 2))\n",
        "\n",
        "    # 에라토스테네스 체\n",
        "    for i in range(2, int(max(a) ** 0.5) + 1):\n",
        "        a -= set(range(i * 2, max(a) + 1, i))\n",
        "\n",
        "    return len(a)"
      ],
      "execution_count": 3,
      "outputs": []
    },
    {
      "cell_type": "code",
      "metadata": {
        "id": "aA8pjBSbI2Xw",
        "colab_type": "code",
        "colab": {
          "base_uri": "https://localhost:8080/",
          "height": 51
        },
        "outputId": "d24f3345-cf48-43ae-efb2-711530d7343f"
      },
      "source": [
        "numbers = [\"17\", \"011\"]\n",
        "for number in numbers:\n",
        "    print(solution(number))"
      ],
      "execution_count": 4,
      "outputs": [
        {
          "output_type": "stream",
          "text": [
            "3\n",
            "2\n"
          ],
          "name": "stdout"
        }
      ]
    },
    {
      "cell_type": "markdown",
      "metadata": {
        "id": "a4OR6oFjKo0w",
        "colab_type": "text"
      },
      "source": [
        "# [프로그래머스] 구명보트 [탐욕법(Greedy)]\n",
        "무인도에 갇힌 사람들을 구명보트를 이용하여 구출하려고 합니다. 구명보트는 작아서 한 번에 최대 2명씩 밖에 탈 수 없고, 무게 제한도 있습니다.\n",
        "\n",
        "예를 들어, 사람들의 몸무게가 [70kg, 50kg, 80kg, 50kg]이고 구명보트의 무게 제한이 100kg이라면 2번째 사람과 4번째 사람은 같이 탈 수 있지만 1번째 사람과 3번째 사람의 무게의 합은 150kg이므로 구명보트의 무게 제한을 초과하여 같이 탈 수 없습니다.\n",
        "\n",
        "구명보트를 최대한 적게 사용하여 모든 사람을 구출하려고 합니다.\n",
        "\n",
        "사람들의 몸무게를 담은 배열 people과 구명보트의 무게 제한 limit가 매개변수로 주어질 때, 모든 사람을 구출하기 위해 필요한 구명보트 개수의 최솟값을 return 하도록 solution 함수를 작성해주세요.\n",
        "\n",
        "# 제한사항\n",
        "- 무인도에 갇힌 사람은 1명 이상 50,000명 이하입니다.\n",
        "- 각 사람의 몸무게는 40kg 이상 240kg 이하입니다.\n",
        "- 구명보트의 무게 제한은 40kg 이상 240kg 이하입니다.\n",
        "- 구명보트의 무게 제한은 항상 사람들의 몸무게 중 최댓값보다 크게 주어지므로 사람들을 구출할 수 없는 경우는 없습니다.\n",
        "\n",
        "# 입출력 예\n",
        "people|limit|return\n",
        "---|---|---\n",
        "[70, 50, 80, 50]|100|3\n",
        "[70, 80, 50]|100|3\n",
        "\n",
        "# 풀이\n",
        "사람들을 보트에 닥치는대로 집어넣어야 합니다. 무거운 사람부터 태우고 가벼운 사람을 얼마나 더 태울 수 있나 확인합니다. 이를 위해 먼저 사람들을 무거운 순으로 정렬합니다.\n",
        "\n",
        "```py\n",
        "people.sort(reverse=True)\n",
        "```\n",
        "\n",
        "무거운 사람부터 루프를 돌면서 가장 가벼운 사람을 태워봅니다. 탈 수 있으면 대기열에서 제거합니다. 한계치를 넘으면 다음 보트에 타야합니다.\n",
        "\n",
        "```py\n",
        "for i in people:\n",
        "    answer += 1\n",
        "    weights = i\n",
        "\n",
        "    while limit >= weights + people[-1]:\n",
        "        weights += people.pop()\n",
        "```"
      ]
    },
    {
      "cell_type": "code",
      "metadata": {
        "id": "RSsiDb0PLEJA",
        "colab_type": "code",
        "colab": {}
      },
      "source": [
        "def solution(people, limit):\n",
        "    answer = 0\n",
        "    people.sort(reverse=True)\n",
        "    \n",
        "    for i in people:\n",
        "        answer += 1\n",
        "        weights = i\n",
        "\n",
        "        while limit >= weights + people[-1]:\n",
        "            weights += people.pop()\n",
        "            \n",
        "    return answer"
      ],
      "execution_count": 7,
      "outputs": []
    },
    {
      "cell_type": "code",
      "metadata": {
        "id": "pYrBgAw5LFGD",
        "colab_type": "code",
        "colab": {
          "base_uri": "https://localhost:8080/",
          "height": 51
        },
        "outputId": "9f4183f7-ff5e-4429-f347-7eb2813b2d0d"
      },
      "source": [
        "inputs = [[[70, 50, 80, 50], 100], [[70, 80, 50], 100]] # 3, 3\n",
        "for people, limit in inputs:\n",
        "    print(solution(people, limit))"
      ],
      "execution_count": 8,
      "outputs": [
        {
          "output_type": "stream",
          "text": [
            "3\n",
            "3\n"
          ],
          "name": "stdout"
        }
      ]
    },
    {
      "cell_type": "markdown",
      "metadata": {
        "id": "WrmKMivhQyHr",
        "colab_type": "text"
      },
      "source": [
        "# [프로그래머스] 위장 [해시]\n",
        "스파이들은 매일 다른 옷을 조합하여 입어 자신을 위장합니다.\n",
        "\n",
        "예를 들어 스파이가 가진 옷이 아래와 같고 오늘 스파이가 동그란 안경, 긴 코트, 파란색 티셔츠를 입었다면 다음날은 청바지를 추가로 입거나 동그란 안경 대신 검정 선글라스를 착용하거나 해야 합니다.\n",
        "\n",
        "종류|이름\n",
        "---|---\n",
        "얼굴|동그란 안경, 검정 선글라스\n",
        "상의|파란색 티셔츠\n",
        "하의|청바지\n",
        "겉옷|긴 코트\n",
        "\n",
        "스파이가 가진 의상들이 담긴 2차원 배열 clothes가 주어질 때 서로 다른 옷의 조합의 수를 return 하도록 solution 함수를 작성해주세요.\n",
        "\n",
        "# 제한사항\n",
        "- clothes의 각 행은 [의상의 이름, 의상의 종류]로 이루어져 있습니다.\n",
        "- 스파이가 가진 의상의 수는 1개 이상 30개 이하입니다.\n",
        "같은 이름을 가진 의상은 존재하지 않습니다.\n",
        "- clothes의 모든 원소는 문자열로 이루어져 있습니다.\n",
        "- 모든 문자열의 길이는 1 이상 20 이하인 자연수이고 알파벳 소문자 또는 '_' 로만 이루어져 있습니다.\n",
        "- 스파이는 하루에 최소 한 개의 의상은 입습니다.\n",
        "\n",
        "# 입출력 예\n",
        "clothes|return\n",
        "---|---\n",
        "[[\"yellow_hat\", \"headgear\"], [\"blue_sunglasses\", \"eyewear\"], [\"green_turban\", \"headgear\"]]|5\n",
        "[[\"crow_mask\", \"face\"], [\"blue_sunglasses\", \"face\"], [\"smoky_makeup\", \"face\"]]|3\n",
        "\n",
        "# 입출력 예 설명\n",
        "## 예제 #1\n",
        "headgear에 해당하는 의상이 yellow_hat, green_turban이고 eyewear에 해당하는 의상이 blue_sunglasses이므로 아래와 같이 5개의 조합이 가능합니다.\n",
        "1. yellow_hat\n",
        "2. blue_sunglasses\n",
        "3. green_turban\n",
        "4. yellow_hat + blue_sunglasses\n",
        "5. green_turban + blue_sunglasses\n",
        "\n",
        "## 예제 #2\n",
        "face에 해당하는 의상이 crow_mask, blue_sunglasses, smoky_makeup이므로 아래와 같이 3개의 조합이 가능합니다.\n",
        "1. crow_mask\n",
        "2. blue_sunglasses\n",
        "3. smoky_makeup\n",
        "\n",
        "# 풀이\n",
        "`clothes`의 각 요소를 두 번째 요소를 기준으로 해시화합니다. 이때 KeyError를 막기 위해 collections의 defaultdict를 사용합니다.\n",
        "\n",
        "```py\n",
        "from collections import defaultdict\n",
        "\n",
        "clothes_dict = defaultdict(list)\n",
        "for v, k in clothes:\n",
        "    clothes_dict[k].append(v)\n",
        "```\n",
        "\n",
        "모든 카테고리의 (1가지 항목 고르는 경우 + 아무 것도 고르지 않는 경우)를 곱합니다. 이후 **아무 것도 입지 않은 경우**를 제외합니다."
      ]
    },
    {
      "cell_type": "code",
      "metadata": {
        "id": "gQipZKhSR8rc",
        "colab_type": "code",
        "colab": {}
      },
      "source": [
        "from collections import defaultdict\n",
        "def solution(clothes):\n",
        "    answer = 1\n",
        "    clothes_dict = defaultdict(list)\n",
        "    for v, k in clothes:\n",
        "        clothes_dict[k].append(v)\n",
        "    \n",
        "    for v in clothes_dict.values():\n",
        "        answer *= len(v)+1\n",
        "        \n",
        "    return answer-1"
      ],
      "execution_count": 11,
      "outputs": []
    },
    {
      "cell_type": "code",
      "metadata": {
        "id": "FjTEkpdUR-Bi",
        "colab_type": "code",
        "colab": {
          "base_uri": "https://localhost:8080/",
          "height": 51
        },
        "outputId": "a0ba9670-00f1-4d3c-90ba-ae7d470780b0"
      },
      "source": [
        "clothes = [\n",
        "    [[\"yellow_hat\", \"headgear\"], [\"blue_sunglasses\", \"eyewear\"], [\"green_turban\", \"headgear\"]], \n",
        "    [[\"crow_mask\", \"face\"], [\"blue_sunglasses\", \"face\"], [\"smoky_makeup\", \"face\"]]\n",
        "]\n",
        "for cloth in clothes:\n",
        "    print(solution(cloth))"
      ],
      "execution_count": 12,
      "outputs": [
        {
          "output_type": "stream",
          "text": [
            "5\n",
            "3\n"
          ],
          "name": "stdout"
        }
      ]
    },
    {
      "cell_type": "markdown",
      "metadata": {
        "id": "-acRS1Dt8W3x",
        "colab_type": "text"
      },
      "source": [
        "# 카카오 조지기\n",
        "무지개 반사 당함ㅜ\n",
        "\n",
        "# [프로그래머스] 압축 [2018 KAKAO BLIND RECRUITMENT - 3차]\n",
        "https://programmers.co.kr/learn/courses/30/lessons/17684\n",
        "\n",
        "신입사원 어피치는 카카오톡으로 전송되는 메시지를 압축하여 전송 효율을 높이는 업무를 맡게 되었다. 메시지를 압축하더라도 전달되는 정보가 바뀌어서는 안 되므로, 압축 전의 정보를 완벽하게 복원 가능한 무손실 압축 알고리즘을 구현하기로 했다.\n",
        "\n",
        "어피치는 여러 압축 알고리즘 중에서 성능이 좋고 구현이 간단한 LZW(Lempel–Ziv–Welch) 압축을 구현하기로 했다. LZW 압축은 1983년 발표된 알고리즘으로, 이미지 파일 포맷인 GIF 등 다양한 응용에서 사용되었다.\n",
        "\n",
        "LZW 압축은 다음 과정을 거친다.\n",
        "1. 길이가 1인 모든 단어를 포함하도록 사전을 초기화한다.\n",
        "1. 사전에서 현재 입력과 일치하는 가장 긴 문자열 w를 찾는다.\n",
        "1. w에 해당하는 사전의 색인 번호를 출력하고, 입력에서 w를 제거한다.\n",
        "1. 입력에서 처리되지 않은 다음 글자가 남아있다면(c), w+c에 해당하는 단어를 사전에 등록한다.\n",
        "1. 단계 2로 돌아간다.\n",
        "\n",
        "압축 알고리즘이 영문 대문자만 처리한다고 할 때, 사전은 다음과 같이 초기화된다. 사전의 색인 번호는 정수값으로 주어지며, 1부터 시작한다고 하자.\n",
        "\n",
        "색인 번호|1|2|3|...|24|25|26\n",
        "---|---|---|---|---|---|---|---\n",
        "단어|A|B|C|...|X|Y|Z\n",
        "\n",
        "예를 들어 입력으로 KAKAO가 들어온다고 하자.\n",
        "1. 현재 사전에는 KAKAO의 첫 글자 K는 등록되어 있으나, 두 번째 글자까지인 KA는 없으므로, 첫 글자 K에 해당하는 색인 번호 11을 출력하고, 다음 글자인 A를 포함한 KA를 사전에 27 번째로 등록한다.\n",
        "1. 두 번째 글자 A는 사전에 있으나, 세 번째 글자까지인 AK는 사전에 없으므로, A의 색인 번호 1을 출력하고, AK를 사전에 28 번째로 등록한다.\n",
        "1. 세 번째 글자에서 시작하는 KA가 사전에 있으므로, KA에 해당하는 색인 번호 27을 출력하고, 다음 글자 O를 포함한 KAO를 29 번째로 등록한다.\n",
        "1. 마지막으로 처리되지 않은 글자 O에 해당하는 색인 번호 15를 출력한다.\n",
        "\n",
        "현재 입력(w)|다음 글자(c)|출력|사전 추가(w+c)\n",
        "---|---|---|---\n",
        "K|A|11|27: KA\n",
        "A|K|1|28: AK\n",
        "KA|O|27|29: KAO\n",
        "O||15|\n",
        "\n",
        "이 과정을 거쳐 다섯 글자의 문장 KAKAO가 4개의 색인 번호 [11, 1, 27, 15]로 압축된다.\n",
        "\n",
        "입력으로 TOBEORNOTTOBEORTOBEORNOT가 들어오면 다음과 같이 압축이 진행된다.\n",
        "\n",
        "현재 입력(w)|다음 글자(c)|출력|사전 추가(w+c)\n",
        "---|---|---|---\n",
        "T|O|20|27: TO\n",
        "O|B|15|28: OB\n",
        "B|E|2|29: BE\n",
        "E|O|5|30: EO\n",
        "O|R|15|31: OR\n",
        "R|N|18|32: RN\n",
        "N|O|14|33: NO\n",
        "O|T|15|34: OT\n",
        "T|T|20|35: TT\n",
        "TO|B|27|36: TOB\n",
        "BE|O|29|37: BEO\n",
        "OR|T|31|38: ORT\n",
        "TOB|E|36|39: TOBE\n",
        "EO|R|30|40: EOR\n",
        "RN|O|32|41: RNO\n",
        "OT||34|\n",
        "\n",
        "# 입력 형식\n",
        "입력으로 영문 대문자로만 이뤄진 문자열 msg가 주어진다. msg의 길이는 1 글자 이상, 1000 글자 이하이다.\n",
        "\n",
        "# 출력 형식\n",
        "주어진 문자열을 압축한 후의 사전 색인 번호를 배열로 출력하라.\n",
        "\n",
        "# 입출력 예제\n",
        "msg|answer\n",
        "---|---\n",
        "KAKAO|[11, 1, 27, 15]\n",
        "TOBEORNOTTOBEORTOBEORNOT|[20, 15, 2, 5, 15, 18, 14, 15, 20, 27, 29, 31, 36, 30, 32, 34]\n",
        "ABABABABABABABAB|[1, 2, 27, 29, 28, 31, 30]\n",
        "\n",
        "# 풀이\n",
        "입력이 단순하기 때문에 배열로 받을 수도 있지만, 배열로 받아서는 탐색에 O(n)의 시간이 걸리기 때문에 해시를 사용했습니다.\n",
        "\n",
        "먼저 사전에 A ~ Z까지의 문자를 키로 1 ~ 26의 값을 집어넣습니다.\n",
        "\n",
        "```py\n",
        "input_dict = defaultdict(int)\n",
        "for char in range(ord('A'), ord('Z')+1):\n",
        "    input_dict[chr(char)] = idx\n",
        "    idx += 1\n",
        "```\n",
        "\n",
        "문자열로 주어진 `msg`를 배열로 바꾼 뒤, 빈 배열이 될 때까지 다음 내용을 반복합니다.\n",
        "\n",
        "1. 배열 첫 번째 요소를 키로 설정하고, 배열에서 제거합니다.\n",
        "1. 배열에 요소가 남아있으면 사전에서 키+배열[0]의 키 값을 확인합니다.\n",
        "  1. 키 값이 0이 아니라면 키를 키 + 배열[0]로 갱신하고 배열의 첫 번째 요소를 제거합니다.\n",
        "  1. 빈 배열이 되거나, 키 값이 0이 될 때까지 2.의 내용을 반복합니다.\n",
        "1. 배열에 요소가 남아있으면 사전에 키+배열[0]의 값을 추가합니다.\n",
        "1. 정답 배열에 키 값을 추가합니다.\n",
        "\n",
        "코드로 풀어내면 다음과 같습니다.\n",
        "\n",
        "```py\n",
        "msg = list(msg)\n",
        "while msg:\n",
        "    seq = msg.pop(0)\n",
        "    while msg and input_dict[seq+msg[0]]:\n",
        "        seq += msg.pop(0)\n",
        "        \n",
        "    if msg:        \n",
        "        input_dict[seq+msg[0]] = idx\n",
        "        idx += 1\n",
        "        \n",
        "    answer.append(input_dict[seq])\n",
        "```"
      ]
    },
    {
      "cell_type": "code",
      "metadata": {
        "id": "giLG1_cs8MEs",
        "colab_type": "code",
        "colab": {}
      },
      "source": [
        "from collections import defaultdict\n",
        "def solution(msg):\n",
        "    answer = []; idx = 1\n",
        "    input_dict = defaultdict(int)\n",
        "    for char in range(ord('A'), ord('Z')+1):\n",
        "        input_dict[chr(char)] = idx\n",
        "        idx += 1\n",
        "        \n",
        "    msg = list(msg)\n",
        "    while msg:\n",
        "        seq = msg.pop(0)\n",
        "        while msg and input_dict[seq+msg[0]]:\n",
        "            seq += msg.pop(0)\n",
        "            \n",
        "        if msg:        \n",
        "            input_dict[seq+msg[0]] = idx\n",
        "            idx += 1\n",
        "            \n",
        "        answer.append(input_dict[seq])\n",
        "        \n",
        "    return answer"
      ],
      "execution_count": 1,
      "outputs": []
    },
    {
      "cell_type": "code",
      "metadata": {
        "id": "Ae0Pfp2-9mY9",
        "colab_type": "code",
        "colab": {
          "base_uri": "https://localhost:8080/",
          "height": 68
        },
        "outputId": "51e9d6f7-b135-4dd2-9da6-24f90e9d9aaa"
      },
      "source": [
        "msgs = [\"KAKAO\", \"TOBEORNOTTOBEORTOBEORNOT\", \"ABABABABABABABAB\"]\n",
        "for msg in msgs:\n",
        "  print(solution(msg))"
      ],
      "execution_count": 2,
      "outputs": [
        {
          "output_type": "stream",
          "text": [
            "[11, 1, 27, 15]\n",
            "[20, 15, 2, 5, 15, 18, 14, 15, 20, 27, 29, 31, 36, 30, 32, 34]\n",
            "[1, 2, 27, 29, 28, 31, 30]\n"
          ],
          "name": "stdout"
        }
      ]
    },
    {
      "cell_type": "markdown",
      "metadata": {
        "id": "mx0zBAqiMpKq",
        "colab_type": "text"
      },
      "source": [
        "# [프로그래머스] 파일명 정렬 [2018 KAKAO BLIND RECRUITMENT - 3차]\n",
        "https://programmers.co.kr/learn/courses/30/lessons/17686\n",
        "\n",
        "세 차례의 코딩 테스트와 두 차례의 면접이라는 기나긴 블라인드 공채를 무사히 통과해 카카오에 입사한 무지는 파일 저장소 서버 관리를 맡게 되었다.\n",
        "\n",
        "저장소 서버에는 프로그램의 과거 버전을 모두 담고 있어, 이름 순으로 정렬된 파일 목록은 보기가 불편했다. 파일을 이름 순으로 정렬하면 나중에 만들어진 ver-10.zip이 ver-9.zip보다 먼저 표시되기 때문이다.\n",
        "\n",
        "버전 번호 외에도 숫자가 포함된 파일 목록은 여러 면에서 관리하기 불편했다. 예컨대 파일 목록이 [\"img12.png\", \"img10.png\", \"img2.png\", \"img1.png\"]일 경우, 일반적인 정렬은 [\"img1.png\", \"img10.png\", \"img12.png\", \"img2.png\"] 순이 되지만, 숫자 순으로 정렬된 [\"img1.png\", \"img2.png\", \"img10.png\", \"img12.png\"] 순이 훨씬 자연스럽다.\n",
        "\n",
        "무지는 단순한 문자 코드 순이 아닌, 파일명에 포함된 숫자를 반영한 정렬 기능을 저장소 관리 프로그램에 구현하기로 했다.\n",
        "\n",
        "소스 파일 저장소에 저장된 파일명은 100 글자 이내로, 영문 대소문자, 숫자, 공백(\" \"), 마침표(.), 빼기 부호(\"-\")만으로 이루어져 있다. 파일명은 영문자로 시작하며, 숫자를 하나 이상 포함하고 있다.\n",
        "\n",
        "파일명은 크게 HEAD, NUMBER, TAIL의 세 부분으로 구성된다.\n",
        "\n",
        "- HEAD는 숫자가 아닌 문자로 이루어져 있으며, 최소한 한 글자 이상이다.\n",
        "- NUMBER는 한 글자에서 최대 다섯 글자 사이의 연속된 숫자로 이루어져 있으며, 앞쪽에 0이 올 수 있다. 0부터 99999 사이의 숫자로, 00000이나 0101 등도 가능하다.\n",
        "- TAIL은 그 나머지 부분으로, 여기에는 숫자가 다시 나타날 수도 있으며, 아무 글자도 없을 수 있다.\n",
        "\n",
        "파일명|HEAD|NUMBER|TAIL\n",
        "---|---|---|---\n",
        "foo9.txt|foo|9|.txt\n",
        "foo010bar020.zip|foo|010|bar020.zip\n",
        "F-15|F-|15|(빈 문자열)\n",
        "\n",
        "파일명을 세 부분으로 나눈 후, 다음 기준에 따라 파일명을 정렬한다.\n",
        "\n",
        "- 파일명은 우선 HEAD 부분을 기준으로 사전 순으로 정렬한다. 이때, 문자열 비교 시 대소문자 구분을 하지 않는다. MUZI와 muzi, MuZi는 정렬 시에 같은 순서로 취급된다.\n",
        "- 파일명의 HEAD 부분이 대소문자 차이 외에는 같을 경우, NUMBER의 숫자 순으로 정렬한다. 9 < 10 < 0011 < 012 < 13 < 014 순으로 정렬된다. 숫자 앞의 0은 무시되며, 012와 12는 정렬 시에 같은 같은 값으로 처리된다.\n",
        "- 두 파일의 HEAD 부분과, NUMBER의 숫자도 같을 경우, 원래 입력에 주어진 순서를 유지한다. MUZI01.zip과 muzi1.png가 입력으로 들어오면, 정렬 후에도 입력 시 주어진 두 파일의 순서가 바뀌어서는 안 된다.\n",
        "\n",
        "무지를 도와 파일명 정렬 프로그램을 구현하라.\n",
        "\n",
        "# 입력 형식\n",
        "입력으로 배열 `files`가 주어진다.\n",
        "- `files`는 1000 개 이하의 파일명을 포함하는 문자열 배열이다.\n",
        "- 각 파일명은 100 글자 이하 길이로, 영문 대소문자, 숫자, 공백(\" \"), 마침표(.), 빼기 부호(\"-\")만으로 이루어져 있다. 파일명은 영문자로 시작하며, 숫자를 하나 이상 포함하고 있다.\n",
        "- 중복된 파일명은 없으나, 대소문자나 숫자 앞부분의 0 차이가 있는 경우는 함께 주어질 수 있다. (`muzi1.txt`, `MUZI1.txt`, `muzi001.txt`, `muzi1.TXT`는 함께 입력으로 주어질 수 있다.)\n",
        "\n",
        "# 출력 형식\n",
        "위 기준에 따라 정렬된 배열을 출력한다.\n",
        "\n",
        "# 입출력 예제\n",
        "- 입력: [\"img12.png\", \"img10.png\", \"img02.png\", \"img1.png\", \"IMG01.GIF\", \"img2.JPG\"]\n",
        "- 출력: [\"img1.png\", \"IMG01.GIF\", \"img02.png\", \"img2.JPG\", \"img10.png\", \"img12.png\"]\n",
        "\n",
        "- 입력: [\"F-5 Freedom Fighter\", \"B-50 Superfortress\", \"A-10 Thunderbolt II\", \"F-14 Tomcat\"]\n",
        "- 출력: [\"A-10 Thunderbolt II\", \"B-50 Superfortress\", \"F-5 Freedom Fighter\", \"F-14 Tomcat\"]\n",
        "\n",
        "# 풀이\n",
        "가장 큰 수에 이어서 정렬 문제입니다. 이름을 세 부분으로 나누기 위해 정규 표현식을 사용하였고, 정렬 기준을 역순으로 적용한다는 점에 주의합니다.\n",
        "\n",
        "```\n",
        "'([^0-9]+)([0-9]{1,5})(.*)'\n",
        "```\n",
        "\n",
        "- `[^0-9]+`는 숫자가 아닌, 하나 이상의 문자를 의미합니다.\n",
        "- `[0-9]{1,5}`는 숫자가 1개 ~ 5개 반복되는 문자를 의미합니다.\n",
        "- `.*`는 숫자, 문자를 통틀어 0개 이상의 문자를 의미합니다.\n",
        "- 각 부분을 `()`를 통해 그룹화하여 `re.findall` 시 HEAD, NUMBER, TAIL 그룹이 나타날 수 있도록 합니다."
      ]
    },
    {
      "cell_type": "code",
      "metadata": {
        "id": "tvwjK9fbN5jh",
        "colab_type": "code",
        "colab": {}
      },
      "source": [
        "import re\n",
        "def solution(files):\n",
        "    arr = [re.findall('([^0-9]+)([0-9]{1,5})(.*)', file)[0] for file in files]\n",
        "    arr.sort(key=lambda v: int(v[1]))\n",
        "    arr.sort(key=lambda v: v[0].lower())\n",
        "    return [''.join(ele) for ele in arr]"
      ],
      "execution_count": 9,
      "outputs": []
    },
    {
      "cell_type": "code",
      "metadata": {
        "id": "kvGeCBVBP_Q9",
        "colab_type": "code",
        "colab": {
          "base_uri": "https://localhost:8080/",
          "height": 51
        },
        "outputId": "1d5c3f62-49ae-4498-d64c-c16469ed56a3"
      },
      "source": [
        "files = [\n",
        "    [\"img12.png\", \"img10.png\", \"img02.png\", \"img1.png\", \"IMG01.GIF\", \"img2.JPG\"],\n",
        "    [\"F-5 Freedom Fighter\", \"B-50 Superfortress\", \"A-10 Thunderbolt II\", \"F-14 Tomcat\"]\n",
        "]\n",
        "for file in files:\n",
        "    print(solution(file))"
      ],
      "execution_count": 10,
      "outputs": [
        {
          "output_type": "stream",
          "text": [
            "['img1.png', 'IMG01.GIF', 'img02.png', 'img2.JPG', 'img10.png', 'img12.png']\n",
            "['A-10 Thunderbolt II', 'B-50 Superfortress', 'F-5 Freedom Fighter', 'F-14 Tomcat']\n"
          ],
          "name": "stdout"
        }
      ]
    }
  ]
}