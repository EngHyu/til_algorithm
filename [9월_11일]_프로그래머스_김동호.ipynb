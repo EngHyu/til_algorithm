{
  "nbformat": 4,
  "nbformat_minor": 0,
  "metadata": {
    "colab": {
      "name": "[9월 11일] 프로그래머스_김동호.ipynb",
      "provenance": [],
      "collapsed_sections": [],
      "authorship_tag": "ABX9TyOYtrrkN1//s/3gsgk+mKvU",
      "include_colab_link": true
    },
    "kernelspec": {
      "name": "python3",
      "display_name": "Python 3"
    }
  },
  "cells": [
    {
      "cell_type": "markdown",
      "metadata": {
        "id": "view-in-github",
        "colab_type": "text"
      },
      "source": [
        "<a href=\"https://colab.research.google.com/github/EngHyu/til_algorithm/blob/master/%5B9%EC%9B%94_11%EC%9D%BC%5D_%ED%94%84%EB%A1%9C%EA%B7%B8%EB%9E%98%EB%A8%B8%EC%8A%A4_%EA%B9%80%EB%8F%99%ED%98%B8.ipynb\" target=\"_parent\"><img src=\"https://colab.research.google.com/assets/colab-badge.svg\" alt=\"Open In Colab\"/></a>"
      ]
    },
    {
      "cell_type": "markdown",
      "metadata": {
        "id": "lqecY785aEg7",
        "colab_type": "text"
      },
      "source": [
        "# [프로그래머스] 카펫 [완전탐색]\n",
        "https://programmers.co.kr/learn/courses/30/lessons/42842?language=python3#\n",
        "\n",
        "Leo는 카펫을 사러 갔다가 아래 그림과 같이 중앙에는 노란색으로 칠해져 있고 테두리 1줄은 갈색으로 칠해져 있는 격자 모양 카펫을 봤습니다.\n",
        "\n",
        "![carpet.png](https://grepp-programmers.s3.ap-northeast-2.amazonaws.com/files/production/b1ebb809-f333-4df2-bc81-02682900dc2d/carpet.png)\n",
        "\n",
        "Leo는 집으로 돌아와서 아까 본 카펫의 노란색과 갈색으로 색칠된 격자의 개수는 기억했지만, 전체 카펫의 크기는 기억하지 못했습니다.\n",
        "\n",
        "Leo가 본 카펫에서 갈색 격자의 수 brown, 노란색 격자의 수 yellow가 매개변수로 주어질 때 카펫의 가로, 세로 크기를 순서대로 배열에 담아 return 하도록 solution 함수를 작성해주세요.\n",
        "\n",
        "# 제한사항\n",
        "- 갈색 격자의 수 brown은 8 이상 5,000 이하인 자연수입니다.\n",
        "- 노란색 격자의 수 yellow는 1 이상 2,000,000 이하인 자연수입니다.\n",
        "- 카펫의 가로 길이는 세로 길이와 같거나, 세로 길이보다 깁니다.\n",
        "\n",
        "# 입출력 예\n",
        "brown|yellow|return\n",
        "---|---|---\n",
        "10|2|[4, 3]\n",
        "8|1|[3, 3]\n",
        "24|24|[8, 6]\n",
        "\n",
        "# 출처\n",
        "- 공지 - 2020년 2월 3일 테스트케이스가 추가되었습니다.\n",
        "- 공지 - 2020년 5월 11일 웹접근성을 고려하여 빨간색을 노란색으로 수정하였습니다.\n",
        "\n",
        "# 풀이\n",
        "brown은 테두리 픽셀의 수, yellow는 이외의 픽셀 수를 나타냅니다. 그러므로, b + y = total = w * h, brown = 2 * (w + h - 1)라는 식이 완성됩니다. 카펫의 가로 길이는 total의 제곱근보다 커질 수 없으므로, total의 제곱근부터 1까지 하나씩 줄여가며 이를 만족하는 w, h를 완전탐색합니다."
      ]
    },
    {
      "cell_type": "code",
      "metadata": {
        "id": "WfkHXPmLZ_9Y",
        "colab_type": "code",
        "colab": {
          "base_uri": "https://localhost:8080/",
          "height": 68
        },
        "outputId": "fa170e98-2bdc-4831-e93e-98697ca2bde4"
      },
      "source": [
        "def solution(brown, yellow):\n",
        "  line = brown // 2 + 2\n",
        "  total = brown + yellow\n",
        "  for h in range(int(total ** 0.5), 0, -1):\n",
        "    if total % h:\n",
        "      continue\n",
        "\n",
        "    w = total // h\n",
        "    if w + h == line:\n",
        "      return [w, h]\n",
        "\n",
        "  answer = [total // 2, 2]\n",
        "  return answer\n",
        "\n",
        "colors = [[10, 2], [8, 1], [24, 24]]\n",
        "for brown, yellow in colors:\n",
        "  print(solution(brown, yellow))"
      ],
      "execution_count": null,
      "outputs": [
        {
          "output_type": "stream",
          "text": [
            "[4, 3]\n",
            "[3, 3]\n",
            "[8, 6]\n"
          ],
          "name": "stdout"
        }
      ]
    },
    {
      "cell_type": "markdown",
      "metadata": {
        "id": "9qxcOLusiYiJ",
        "colab_type": "text"
      },
      "source": [
        "# [프로그래머스] JadenCase 문자열 만들기 [연습문제]\n",
        "https://programmers.co.kr/learn/courses/30/lessons/12951#\n",
        "\n",
        "JadenCase란 모든 단어의 첫 문자가 대문자이고, 그 외의 알파벳은 소문자인 문자열입니다. 문자열 s가 주어졌을 때, s를 JadenCase로 바꾼 문자열을 리턴하는 함수, solution을 완성해주세요.\n",
        "\n",
        "# 제한 조건\n",
        "- s는 길이 1 이상인 문자열입니다.\n",
        "- s는 알파벳과 공백문자(\" \")로 이루어져 있습니다.\n",
        "- 첫 문자가 영문이 아닐때에는 이어지는 영문은 소문자로 씁니다. ( 첫번째 입출력 예 참고 )\n",
        "\n",
        "# 입출력 예\n",
        "s|return\n",
        "---|---\n",
        "\"3people unFollowed me\"|\"3people Unfollowed Me\"\n",
        "\"for the last week\"|\"For The Last Week\"\n",
        "\n",
        "# 풀이\n",
        "시키는대로 합니다. 파이썬의 `s.split()`과 `''.join(s)`을 사용하면 \"a  b\"와 같은 문자열이 \"A B\"로 변환되어 틀린 답안이 되는 것에 유의합니다."
      ]
    },
    {
      "cell_type": "code",
      "metadata": {
        "id": "ia2sdswujEH_",
        "colab_type": "code",
        "colab": {
          "base_uri": "https://localhost:8080/",
          "height": 68
        },
        "outputId": "bc284099-6e2a-41f2-ec4f-52a38196da62"
      },
      "source": [
        "def solution(s):\n",
        "  last = ' '\n",
        "  s = list(s)\n",
        "  for idx in range(len(s)):\n",
        "    if last == ' ' and s[idx] != ' ':\n",
        "      s[idx] = s[idx].upper()\n",
        "    else:\n",
        "      s[idx] = s[idx].lower()\n",
        "\n",
        "    last = s[idx]\n",
        "  return ''.join(s)\n",
        "\n",
        "strings = [\"3people unFollowed me\", \"for the last week\", \"a  b\"]\n",
        "for s in strings:\n",
        "  print(solution(s))"
      ],
      "execution_count": null,
      "outputs": [
        {
          "output_type": "stream",
          "text": [
            "3people Unfollowed Me\n",
            "For The Last Week\n",
            "A  B\n"
          ],
          "name": "stdout"
        }
      ]
    },
    {
      "cell_type": "markdown",
      "metadata": {
        "id": "8l4RKY1SjUSw",
        "colab_type": "text"
      },
      "source": [
        "# [프로그래머스] 짝지어 제거하기 [2017 팁스타운]\n",
        "https://programmers.co.kr/learn/courses/30/lessons/12973\n",
        "\n",
        "짝지어 제거하기는, 알파벳 소문자로 이루어진 문자열을 가지고 시작합니다. 먼저 문자열에서 같은 알파벳이 2개 붙어 있는 짝을 찾습니다. 그다음, 그 둘을 제거한 뒤, 앞뒤로 문자열을 이어 붙입니다. 이 과정을 반복해서 문자열을 모두 제거한다면 짝지어 제거하기가 종료됩니다. 문자열 S가 주어졌을 때, 짝지어 제거하기를 성공적으로 수행할 수 있는지 반환하는 함수를 완성해 주세요. 성공적으로 수행할 수 있으면 1을, 아닐 경우 0을 리턴해주면 됩니다.\n",
        "\n",
        "예를 들어, 문자열 S = `baabaa` 라면\n",
        "\n",
        "b _aa_ baa → _bb_ aa → _aa_ →\n",
        "\n",
        "의 순서로 문자열을 모두 제거할 수 있으므로 1을 반환합니다.\n",
        "\n",
        "# 제한사항\n",
        "- 문자열의 길이 : 1,000,000이하의 자연수\n",
        "- 문자열은 모두 소문자로 이루어져 있습니다.\n",
        "\n",
        "# 입출력 예\n",
        "s|result\n",
        "---|---\n",
        "baabaa|1\n",
        "cdcd|0\n",
        "\n",
        "# 입출력 예 설명\n",
        "## 입출력 예 #1\n",
        "위의 예시와 같습니다.\n",
        "\n",
        "## 입출력 예 #2\n",
        "문자열이 남아있지만 짝지어 제거할 수 있는 문자열이 더 이상 존재하지 않기 때문에 0을 반환합니다.\n",
        "\n",
        "- 공지 - 2020년 6월 8일 테스트케이스가 추가되었습니다.\n",
        "\n",
        "# 풀이\n",
        "```\n",
        "# timeout\n",
        "def solution(s):\n",
        "  s = list(s)\n",
        "  while s:\n",
        "    for idx in range(len(s)-1):\n",
        "      if s[idx] == s[idx+1]:\n",
        "        s.pop(idx)\n",
        "        s.pop(idx)\n",
        "        break\n",
        "      else:\n",
        "        return 0   \n",
        "  return 1\n",
        "```\n",
        "\n",
        "i번째 문자와 i+1번째 문자를 비교하여 문자열이 빌 때까지 순회하면 타임아웃이 발생합니다.\n",
        "\n",
        "스택을 사용하여 s를 순회하면서 i번째 문자가 스택의 top과 다르면 스택에 추가하고, 같으면 스택에서 제거합니다."
      ]
    },
    {
      "cell_type": "code",
      "metadata": {
        "id": "q0oByDwxjNN8",
        "colab_type": "code",
        "colab": {
          "base_uri": "https://localhost:8080/",
          "height": 51
        },
        "outputId": "9b72445a-4c6f-44c4-9733-d629d182d57b"
      },
      "source": [
        "def solution(s):\n",
        "  stack = []\n",
        "  for c in s:\n",
        "    if stack and stack[-1] == c:\n",
        "      stack.pop()\n",
        "    else:\n",
        "      stack.append(c)\n",
        "            \n",
        "  return int(stack == [])\n",
        "\n",
        "strings = [\"baabaa\", \"cdcd\"]\n",
        "for s in strings:\n",
        "  print(solution(s))"
      ],
      "execution_count": null,
      "outputs": [
        {
          "output_type": "stream",
          "text": [
            "1\n",
            "0\n"
          ],
          "name": "stdout"
        }
      ]
    },
    {
      "cell_type": "markdown",
      "metadata": {
        "id": "KLMYyd5wllaI",
        "colab_type": "text"
      },
      "source": [
        "# [프로그래머스] H-Index [정렬]\n",
        "https://programmers.co.kr/learn/courses/30/lessons/42747\n",
        "\n",
        "H-Index는 과학자의 생산성과 영향력을 나타내는 지표입니다. 어느 과학자의 H-Index를 나타내는 값인 h를 구하려고 합니다. 위키백과1에 따르면, H-Index는 다음과 같이 구합니다.\n",
        "\n",
        "어떤 과학자가 발표한 논문 `n`편 중, `h`번 이상 인용된 논문이 `h`편 이상이고 나머지 논문이 `h`번 이하 인용되었다면 h의 최댓값이 이 과학자의 H-Index입니다.\n",
        "\n",
        "어떤 과학자가 발표한 논문의 인용 횟수를 담은 배열 citations가 매개변수로 주어질 때, 이 과학자의 H-Index를 return 하도록 solution 함수를 작성해주세요.\n",
        "\n",
        "# 제한사항\n",
        "- 과학자가 발표한 논문의 수는 1편 이상 1,000편 이하입니다.\n",
        "- 논문별 인용 횟수는 0회 이상 10,000회 이하입니다.\n",
        "\n",
        "# 입출력 예\n",
        "citations|return\n",
        "---|---\n",
        "[3, 0, 6, 1, 5]|3\n",
        "\n",
        "# 입출력 예 설명\n",
        "이 과학자가 발표한 논문의 수는 5편이고, 그중 3편의 논문은 3회 이상 인용되었습니다. 그리고 나머지 2편의 논문은 3회 이하 인용되었기 때문에 이 과학자의 H-Index는 3입니다.\n",
        "\n",
        "- 공지 - 2019년 2월 28일 테스트 케이스가 추가되었습니다.\n",
        "\n",
        "1. https://en.wikipedia.org/wiki/H-index \"위키백과\" ↩\n",
        "\n",
        "# 풀이\n",
        "`[3, 0, 6, 1, 5]`는 정렬하면 `[6, 5, 3, 1, 0]`이라 절묘하게 h와 값이 맞아떨어지지만, `[66, 32]`의 경우는 어떨까요? 이때에는 2번 이상 인용된 논문이 2편 이상이고, 나머지 논문은 h번 이하 인용되었으므로, H-Index는 2가 됩니다."
      ]
    },
    {
      "cell_type": "code",
      "metadata": {
        "id": "YfzGo_LVlc_5",
        "colab_type": "code",
        "colab": {
          "base_uri": "https://localhost:8080/",
          "height": 51
        },
        "outputId": "4b3e6574-125a-46f7-e764-e327b2b6b481"
      },
      "source": [
        "def solution(citations):\n",
        "  citations.sort(reverse=True)\n",
        "  h = map(min, enumerate(citations, start=1))\n",
        "  return max(h)\n",
        "\n",
        "citations_list = [[3, 0, 6, 1, 5], [66, 32]]\n",
        "for citations in citations_list:\n",
        "  print(solution(citations))"
      ],
      "execution_count": null,
      "outputs": [
        {
          "output_type": "stream",
          "text": [
            "3\n",
            "2\n"
          ],
          "name": "stdout"
        }
      ]
    },
    {
      "cell_type": "markdown",
      "metadata": {
        "id": "hCmJiXgbniaf",
        "colab_type": "text"
      },
      "source": [
        "# [프로그래머스] 문자열 압축 [2020 KAKAO BLIND RECRUITMENT\n",
        "https://programmers.co.kr/learn/courses/30/lessons/60057\n",
        "\n",
        "데이터 처리 전문가가 되고 싶은 어피치는 문자열을 압축하는 방법에 대해 공부를 하고 있습니다. 최근에 대량의 데이터 처리를 위한 간단한 비손실 압축 방법에 대해 공부를 하고 있는데, 문자열에서 같은 값이 연속해서 나타나는 것을 그 문자의 개수와 반복되는 값으로 표현하여 더 짧은 문자열로 줄여서 표현하는 알고리즘을 공부하고 있습니다.\n",
        "\n",
        "간단한 예로 aabbaccc의 경우 2a2ba3c(문자가 반복되지 않아 한번만 나타난 경우 1은 생략함)와 같이 표현할 수 있는데, 이러한 방식은 반복되는 문자가 적은 경우 압축률이 낮다는 단점이 있습니다. 예를 들면, abcabcdede와 같은 문자열은 전혀 압축되지 않습니다. 어피치는 이러한 단점을 해결하기 위해 문자열을 1개 이상의 단위로 잘라서 압축하여 더 짧은 문자열로 표현할 수 있는지 방법을 찾아보려고 합니다.\n",
        "\n",
        "예를 들어, ababcdcdababcdcd의 경우 문자를 1개 단위로 자르면 전혀 압축되지 않지만, 2개 단위로 잘라서 압축한다면 2ab2cd2ab2cd로 표현할 수 있습니다. 다른 방법으로 8개 단위로 잘라서 압축한다면 2ababcdcd로 표현할 수 있으며, 이때가 가장 짧게 압축하여 표현할 수 있는 방법입니다.\n",
        "\n",
        "다른 예로, abcabcdede와 같은 경우, 문자를 2개 단위로 잘라서 압축하면 abcabc2de가 되지만, 3개 단위로 자른다면 2abcdede가 되어 3개 단위가 가장 짧은 압축 방법이 됩니다. 이때 3개 단위로 자르고 마지막에 남는 문자열은 그대로 붙여주면 됩니다.\n",
        "\n",
        "압축할 문자열 s가 매개변수로 주어질 때, 위에 설명한 방법으로 1개 이상 단위로 문자열을 잘라 압축하여 표현한 문자열 중 가장 짧은 것의 길이를 return 하도록 solution 함수를 완성해주세요.\n",
        "\n",
        "# 제한사항\n",
        "- s의 길이는 1 이상 1,000 이하입니다.\n",
        "- s는 알파벳 소문자로만 이루어져 있습니다.\n",
        "\n",
        "# 입출력 예\n",
        "s|result\n",
        "---|---\n",
        "\"aabbaccc\"|7\n",
        "\"ababcdcdababcdcd\"|9\n",
        "\"abcabcdede\"|8\n",
        "\"abcabcabcabcdededededede\"|14\n",
        "\"xababcdcdababcdcd\"|17\n",
        "\n",
        "# 입출력 예에 대한 설명\n",
        "## 입출력 예 #1\n",
        "문자열을 1개 단위로 잘라 압축했을 때 가장 짧습니다.\n",
        "\n",
        "## 입출력 예 #2\n",
        "문자열을 8개 단위로 잘라 압축했을 때 가장 짧습니다.\n",
        "\n",
        "## 입출력 예 #3\n",
        "문자열을 3개 단위로 잘라 압축했을 때 가장 짧습니다.\n",
        "\n",
        "## 입출력 예 #4\n",
        "문자열을 2개 단위로 자르면 abcabcabcabc6de 가 됩니다.\n",
        "\n",
        "문자열을 3개 단위로 자르면 4abcdededededede 가 됩니다.\n",
        "\n",
        "문자열을 4개 단위로 자르면 abcabcabcabc3dede 가 됩니다.\n",
        "\n",
        "문자열을 6개 단위로 자를 경우 2abcabc2dedede가 되며, 이때의 길이가 14로 가장 짧습니다.\n",
        "\n",
        "## 입출력 예 #5\n",
        "문자열은 제일 앞부터 정해진 길이만큼 잘라야 합니다.\n",
        "\n",
        "따라서 주어진 문자열을 x / ababcdcd / ababcdcd 로 자르는 것은 불가능 합니다.\n",
        "\n",
        "이 경우 어떻게 문자열을 잘라도 압축되지 않으므로 가장 짧은 길이는 17이 됩니다.\n",
        "\n",
        "# 풀이\n",
        "스택과 완전탐색이 혼합된 문제라고 생각합니다. 먼저 문자열을 압축할 단위로 자릅니다. 만약 스택 top 항목이 잘라낸 문자열과 같으면 top의 cnt를 증가시킵니다. 다르다면 스택에 [1, 문자열] 형태로 집어넣습니다.\n",
        "\n",
        "문자열을 모두 스택에 집어넣었으면 카운트를 시작합니다. cnt가 1이면 문자열의 길이만큼만 증가시킵니다. cnt가 1이 아니면 숫자의 길이만큼도 증가시킵니다. (14의 경우 길이는 2)"
      ]
    },
    {
      "cell_type": "code",
      "metadata": {
        "id": "0ZDU1sMo7dLs",
        "colab_type": "code",
        "colab": {
          "base_uri": "https://localhost:8080/",
          "height": 102
        },
        "outputId": "8bc1b23a-83e0-4f96-e88c-8271fd6af22c"
      },
      "source": [
        "def solution(s):\n",
        "  ans = [len(s)]\n",
        "  for inc in range(1, len(s)//2+1):\n",
        "    stack = []\n",
        "    for idx in range(0, len(s), inc):\n",
        "      if stack and stack[-1][1] == s[idx:idx+inc]:\n",
        "        stack[-1][0] += 1\n",
        "      else:\n",
        "        stack.append([1, s[idx:idx+inc]])\n",
        "\n",
        "    answer = 0\n",
        "    for item in stack:\n",
        "      if item[0] != 1:\n",
        "        answer += len(str(item[0]))\n",
        "      answer += len(item[1])\n",
        "    ans.append(answer)\n",
        "      \n",
        "  return min(ans)\n",
        "\n",
        "strings = [\"aabbaccc\", \"ababcdcdababcdcd\", \"abcabcdede\", \"abcabcabcabcdededededede\", \"xababcdcdababcdcd\"]\n",
        "for s in strings:\n",
        "  print(solution(s))"
      ],
      "execution_count": null,
      "outputs": [
        {
          "output_type": "stream",
          "text": [
            "7\n",
            "9\n",
            "8\n",
            "14\n",
            "17\n"
          ],
          "name": "stdout"
        }
      ]
    },
    {
      "cell_type": "markdown",
      "metadata": {
        "id": "tERFN5Zq_v6_",
        "colab_type": "text"
      },
      "source": [
        "# [프로그래머스] 오픈채팅방 [2019 KAKAO BLIND RECRUITMENT]\n",
        "카카오톡 오픈채팅방에서는 친구가 아닌 사람들과 대화를 할 수 있는데, 본래 닉네임이 아닌 가상의 닉네임을 사용하여 채팅방에 들어갈 수 있다.\n",
        "\n",
        "신입사원인 김크루는 카카오톡 오픈 채팅방을 개설한 사람을 위해, 다양한 사람들이 들어오고, 나가는 것을 지켜볼 수 있는 관리자창을 만들기로 했다. 채팅방에 누군가 들어오면 다음 메시지가 출력된다.\n",
        "\n",
        "\"[닉네임]님이 들어왔습니다.\"\n",
        "\n",
        "채팅방에서 누군가 나가면 다음 메시지가 출력된다.\n",
        "\n",
        "\"[닉네임]님이 나갔습니다.\"\n",
        "\n",
        "채팅방에서 닉네임을 변경하는 방법은 다음과 같이 두 가지이다.\n",
        "\n",
        "- 채팅방을 나간 후, 새로운 닉네임으로 다시 들어간다.\n",
        "- 채팅방에서 닉네임을 변경한다.\n",
        "\n",
        "닉네임을 변경할 때는 기존에 채팅방에 출력되어 있던 메시지의 닉네임도 전부 변경된다.\n",
        "\n",
        "예를 들어, 채팅방에 \"Muzi\"와 \"Prodo\"라는 닉네임을 사용하는 사람이 순서대로 들어오면 채팅방에는 다음과 같이 메시지가 출력된다.\n",
        "\n",
        "\"Muzi님이 들어왔습니다.\"\n",
        "\n",
        "\"Prodo님이 들어왔습니다.\"\n",
        "\n",
        "채팅방에 있던 사람이 나가면 채팅방에는 다음과 같이 메시지가 남는다.\n",
        "\n",
        "\"Muzi님이 들어왔습니다.\"\n",
        "\n",
        "\"Prodo님이 들어왔습니다.\"\n",
        "\n",
        "\"Muzi님이 나갔습니다.\"\n",
        "\n",
        "Muzi가 나간후 다시 들어올 때, Prodo 라는 닉네임으로 들어올 경우 기존에 채팅방에 남아있던 Muzi도 Prodo로 다음과 같이 변경된다.\n",
        "\n",
        "\"Prodo님이 들어왔습니다.\"\n",
        "\n",
        "\"Prodo님이 들어왔습니다.\"\n",
        "\n",
        "\"Prodo님이 나갔습니다.\"\n",
        "\n",
        "\"Prodo님이 들어왔습니다.\"\n",
        "\n",
        "채팅방은 중복 닉네임을 허용하기 때문에, 현재 채팅방에는 Prodo라는 닉네임을 사용하는 사람이 두 명이 있다. 이제, 채팅방에 두 번째로 들어왔던 Prodo가 Ryan으로 닉네임을 변경하면 채팅방 메시지는 다음과 같이 변경된다.\n",
        "\n",
        "\"Prodo님이 들어왔습니다.\"\n",
        "\n",
        "\"Ryan님이 들어왔습니다.\"\n",
        "\n",
        "\"Prodo님이 나갔습니다.\"\n",
        "\n",
        "\"Prodo님이 들어왔습니다.\"\n",
        "\n",
        "채팅방에 들어오고 나가거나, 닉네임을 변경한 기록이 담긴 문자열 배열 record가 매개변수로 주어질 때, 모든 기록이 처리된 후, 최종적으로 방을 개설한 사람이 보게 되는 메시지를 문자열 배열 형태로 return 하도록 solution 함수를 완성하라.\n",
        "\n",
        "# 제한사항\n",
        "- record는 다음과 같은 문자열이 담긴 배열이며, 길이는 1 이상 100,000 이하이다.\n",
        "- 다음은 record에 담긴 문자열에 대한 설명이다.\n",
        "  - 모든 유저는 [유저 아이디]로 구분한다.\n",
        "  - [유저 아이디] 사용자가 [닉네임]으로 채팅방에 입장 - \"Enter [유저 아이디] [닉네임]\" (ex. \"Enter uid1234 Muzi\")\n",
        "  - [유저 아이디] 사용자가 채팅방에서 퇴장 - \"Leave [유저 아이디]\" (ex. \"Leave uid1234\")\n",
        "  - [유저 아이디] 사용자가 닉네임을 [닉네임]으로 변경 - \"Change [유저 아이디] [닉네임]\" (ex. \"Change uid1234 Muzi\")\n",
        "  - 첫 단어는 Enter, Leave, Change 중 하나이다.\n",
        "  - 각 단어는 공백으로 구분되어 있으며, 알파벳 대문자, 소문자, 숫자로만 이루어져있다.\n",
        "  - 유저 아이디와 닉네임은 알파벳 대문자, 소문자를 구별한다.\n",
        "  - 유저 아이디와 닉네임의 길이는 1 이상 10 이하이다.\n",
        "  - 채팅방에서 나간 유저가 닉네임을 변경하는 등 잘못 된 입력은 주어지지 않는다.\n",
        "\n",
        "# 입출력 예\n",
        "record|result\n",
        "---|---\n",
        "[\"Enter uid1234 Muzi\", \"Enter uid4567 Prodo\",\"Leave uid1234\",\"Enter uid1234 Prodo\",\"Change uid4567 Ryan\"]|[\"Prodo님이 들어왔습니다.\", \"Ryan님이 들어왔습니다.\", \"Prodo님이 나갔습니다.\", \"Prodo님이 들어왔습니다.\"]\n",
        "\n",
        "# 입출력 예 설명\n",
        "## 입출력 예 #1\n",
        "문제의 설명과 같다.\n",
        "\n",
        "# 풀이\n",
        "이 문제를 해결하기 위해선 record를 두 번 순회하여야 합니다. 처음 순회하면서 모든 Enter 구문을 포착하여 uid와 닉네임을 입력하고, Change 구문을 포착하여 uid에 따른 닉네임을 업데이트 합니다.\n",
        "\n",
        "다음 순회 시 변경된 닉네임으로 answer 리스트를 생성합니다. 파이썬 이외의\n",
        "언어라면 포인터에 직접 접근하여 변경할 수도 있겠지만, 파이썬으로 하는 편이 간단하다고 생각됩니다... 파이썬 중독."
      ]
    },
    {
      "cell_type": "code",
      "metadata": {
        "id": "5EQAe0vt_xEB",
        "colab_type": "code",
        "colab": {
          "base_uri": "https://localhost:8080/",
          "height": 34
        },
        "outputId": "f9e978eb-4d93-451b-ac16-379b100cb6e3"
      },
      "source": [
        "def solution(record):\n",
        "  answer = []; uid = dict()\n",
        "  for msg in record:\n",
        "    msg = msg.split()\n",
        "    if msg[0] == \"Enter\":\n",
        "      uid[msg[1]] = msg[2]\n",
        "    elif msg[0] == \"Change\":\n",
        "      uid[msg[1]] = msg[2]\n",
        "    elif msg[0] == \"Leave\":\n",
        "      pass\n",
        "    else:\n",
        "      raise Exception(\"invalid prefix error\")\n",
        "        \n",
        "  for msg in record:\n",
        "    msg = msg.split()\n",
        "    if msg[0] == \"Enter\":\n",
        "      answer.append(\"%s님이 들어왔습니다.\" % uid[msg[1]])\n",
        "    elif msg[0] == \"Change\":\n",
        "      pass\n",
        "    elif msg[0] == \"Leave\":\n",
        "      answer.append(\"%s님이 나갔습니다.\" % uid[msg[1]])\n",
        "    else:\n",
        "      raise Exception(\"invalid prefix error\")\n",
        "        \n",
        "  return answer\n",
        "\n",
        "records = [[\"Enter uid1234 Muzi\", \"Enter uid4567 Prodo\",\"Leave uid1234\",\"Enter uid1234 Prodo\",\"Change uid4567 Ryan\"]]\n",
        "for record in records:\n",
        "  print(solution(record))"
      ],
      "execution_count": 15,
      "outputs": [
        {
          "output_type": "stream",
          "text": [
            "['Prodo님이 들어왔습니다.', 'Ryan님이 들어왔습니다.', 'Prodo님이 나갔습니다.', 'Prodo님이 들어왔습니다.']\n"
          ],
          "name": "stdout"
        }
      ]
    }
  ]
}